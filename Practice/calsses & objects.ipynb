{
 "cells": [
  {
   "cell_type": "code",
   "execution_count": 12,
   "metadata": {},
   "outputs": [],
   "source": [
    "class Rectangle:\n",
    "    def areaReactangle(s,w,h):\n",
    "        return (w*h)"
   ]
  },
  {
   "cell_type": "code",
   "execution_count": 13,
   "metadata": {},
   "outputs": [
    {
     "data": {
      "text/plain": [
       "15"
      ]
     },
     "execution_count": 13,
     "metadata": {},
     "output_type": "execute_result"
    }
   ],
   "source": [
    "r=Rectangle().areaReactangle(3,5)\n",
    "r"
   ]
  },
  {
   "cell_type": "code",
   "execution_count": 56,
   "metadata": {},
   "outputs": [],
   "source": [
    "class Triangle:\n",
    "    def __init__(self,x=0,y=0):\n",
    "        self.x=x\n",
    "        self.y=y\n",
    "    def areaTriangle(self):\n",
    "        print((self.x*self.y)/2)\n",
    "    def midPoint(self,x1,y1,y):\n",
    "        print(self.x+x1/2, self.y+y1/2)"
   ]
  },
  {
   "cell_type": "code",
   "execution_count": 58,
   "metadata": {},
   "outputs": [
    {
     "name": "stdout",
     "output_type": "stream",
     "text": [
      "6.0\n",
      "4.0 5.5\n"
     ]
    }
   ],
   "source": [
    "t=Triangle(3,4)\n",
    "t.areaTriangle()\n",
    "p=t.midPoint(2,3,3)\n",
    "p"
   ]
  },
  {
   "cell_type": "code",
   "execution_count": 59,
   "metadata": {},
   "outputs": [
    {
     "data": {
      "text/plain": [
       "<__main__.Triangle at 0x16517fda400>"
      ]
     },
     "execution_count": 59,
     "metadata": {},
     "output_type": "execute_result"
    }
   ],
   "source": [
    "t"
   ]
  },
  {
   "cell_type": "code",
   "execution_count": 162,
   "metadata": {},
   "outputs": [],
   "source": [
    "class smsStore:\n",
    "    def __init__(self,li=[]):\n",
    "        self.li=li\n",
    "    def add_newArrival(self,from_number,time_arrival,text_message):\n",
    "        self.li.append([from_number,time_arrival,text_message,0])\n",
    "    def message_count(self):\n",
    "        print(len(li))\n",
    "    def get_unread_message(self):\n",
    "        print(\"Unread messages are: \")\n",
    "        for i in li:\n",
    "            if(i[-1]==0):\n",
    "                print(i[:-1])\n",
    "        print(\"__________________\")\n",
    "    def get_message(self,i):\n",
    "        li[i-1][-1]=1\n",
    "        print(\"Reading message :\")\n",
    "        print(li[i-1][:-1])\n",
    "    def delete_message(self,i):\n",
    "        if(len(li)<i):\n",
    "            print(\"index out of range\")\n",
    "        else:\n",
    "            self.li.pop([i-1])\n",
    "            print(\"Message\",i,\" deleted\")\n",
    "    def clear(self):\n",
    "        li.clear()\n",
    "        print(li)\n",
    "    "
   ]
  },
  {
   "cell_type": "code",
   "execution_count": 163,
   "metadata": {},
   "outputs": [],
   "source": [
    "d=smsStore(li)\n",
    "# d.add_newArrival(\"8374614112\",\"12:30pm\",\"Good Afternoon\")\n",
    "# d.message_count()\n",
    "# d.get_unread_message()\n",
    "# d.get_message(2)\n",
    "# d.delete_message(2)\n",
    "# d.clear()\n",
    "# li"
   ]
  },
  {
   "cell_type": "code",
   "execution_count": 139,
   "metadata": {},
   "outputs": [],
   "source": [
    "a=[1,2,3,4]"
   ]
  },
  {
   "cell_type": "code",
   "execution_count": 126,
   "metadata": {},
   "outputs": [],
   "source": [
    "a[-1]=3"
   ]
  },
  {
   "cell_type": "code",
   "execution_count": 127,
   "metadata": {},
   "outputs": [
    {
     "data": {
      "text/plain": [
       "[1, 2, 3, 3]"
      ]
     },
     "execution_count": 127,
     "metadata": {},
     "output_type": "execute_result"
    }
   ],
   "source": [
    "a"
   ]
  },
  {
   "cell_type": "code",
   "execution_count": null,
   "metadata": {},
   "outputs": [],
   "source": []
  }
 ],
 "metadata": {
  "kernelspec": {
   "display_name": "Python 3",
   "language": "python",
   "name": "python3"
  },
  "language_info": {
   "codemirror_mode": {
    "name": "ipython",
    "version": 3
   },
   "file_extension": ".py",
   "mimetype": "text/x-python",
   "name": "python",
   "nbconvert_exporter": "python",
   "pygments_lexer": "ipython3",
   "version": "3.7.3"
  }
 },
 "nbformat": 4,
 "nbformat_minor": 2
}
