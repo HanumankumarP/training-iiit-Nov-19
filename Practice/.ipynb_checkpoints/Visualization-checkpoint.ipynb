{
 "cells": [
  {
   "cell_type": "markdown",
   "metadata": {},
   "source": [
    "### Visualization\n",
    "+ Matplotlib\n",
    "+ Seaborn\n",
    "+ Plotly\n",
    "+ bokeh\n",
    "+ Folium\n",
    "\n",
    "#### Ploting\n",
    "+ Univariate\n",
    "+ Bivariate"
   ]
  },
  {
   "cell_type": "code",
   "execution_count": 12,
   "metadata": {},
   "outputs": [],
   "source": [
    "%matplotlib inline\n",
    "import matplotlib.pyplot as plt\n",
    "import seaborn as sns\n",
    "import numpy as np\n",
    "import pandas as pd"
   ]
  },
  {
   "cell_type": "code",
   "execution_count": 8,
   "metadata": {},
   "outputs": [
    {
     "name": "stdout",
     "output_type": "stream",
     "text": [
      "Help on function plot in module matplotlib.pyplot:\n",
      "\n",
      "plot(*args, scalex=True, scaley=True, data=None, **kwargs)\n",
      "    Plot y versus x as lines and/or markers.\n",
      "    \n",
      "    Call signatures::\n",
      "    \n",
      "        plot([x], y, [fmt], data=None, **kwargs)\n",
      "        plot([x], y, [fmt], [x2], y2, [fmt2], ..., **kwargs)\n",
      "    \n",
      "    The coordinates of the points or line nodes are given by *x*, *y*.\n",
      "    \n",
      "    The optional parameter *fmt* is a convenient way for defining basic\n",
      "    formatting like color, marker and linestyle. It's a shortcut string\n",
      "    notation described in the *Notes* section below.\n",
      "    \n",
      "    >>> plot(x, y)        # plot x and y using default line style and color\n",
      "    >>> plot(x, y, 'bo')  # plot x and y using blue circle markers\n",
      "    >>> plot(y)           # plot y using x as index array 0..N-1\n",
      "    >>> plot(y, 'r+')     # ditto, but with red plusses\n",
      "    \n",
      "    You can use `.Line2D` properties as keyword arguments for more\n",
      "    control on the appearance. Line properties and *fmt* can be mixed.\n",
      "    The following two calls yield identical results:\n",
      "    \n",
      "    >>> plot(x, y, 'go--', linewidth=2, markersize=12)\n",
      "    >>> plot(x, y, color='green', marker='o', linestyle='dashed',\n",
      "    ...      linewidth=2, markersize=12)\n",
      "    \n",
      "    When conflicting with *fmt*, keyword arguments take precedence.\n",
      "    \n",
      "    **Plotting labelled data**\n",
      "    \n",
      "    There's a convenient way for plotting objects with labelled data (i.e.\n",
      "    data that can be accessed by index ``obj['y']``). Instead of giving\n",
      "    the data in *x* and *y*, you can provide the object in the *data*\n",
      "    parameter and just give the labels for *x* and *y*::\n",
      "    \n",
      "    >>> plot('xlabel', 'ylabel', data=obj)\n",
      "    \n",
      "    All indexable objects are supported. This could e.g. be a `dict`, a\n",
      "    `pandas.DataFame` or a structured numpy array.\n",
      "    \n",
      "    \n",
      "    **Plotting multiple sets of data**\n",
      "    \n",
      "    There are various ways to plot multiple sets of data.\n",
      "    \n",
      "    - The most straight forward way is just to call `plot` multiple times.\n",
      "      Example:\n",
      "    \n",
      "      >>> plot(x1, y1, 'bo')\n",
      "      >>> plot(x2, y2, 'go')\n",
      "    \n",
      "    - Alternatively, if your data is already a 2d array, you can pass it\n",
      "      directly to *x*, *y*. A separate data set will be drawn for every\n",
      "      column.\n",
      "    \n",
      "      Example: an array ``a`` where the first column represents the *x*\n",
      "      values and the other columns are the *y* columns::\n",
      "    \n",
      "      >>> plot(a[0], a[1:])\n",
      "    \n",
      "    - The third way is to specify multiple sets of *[x]*, *y*, *[fmt]*\n",
      "      groups::\n",
      "    \n",
      "      >>> plot(x1, y1, 'g^', x2, y2, 'g-')\n",
      "    \n",
      "      In this case, any additional keyword argument applies to all\n",
      "      datasets. Also this syntax cannot be combined with the *data*\n",
      "      parameter.\n",
      "    \n",
      "    By default, each line is assigned a different style specified by a\n",
      "    'style cycle'. The *fmt* and line property parameters are only\n",
      "    necessary if you want explicit deviations from these defaults.\n",
      "    Alternatively, you can also change the style cycle using the\n",
      "    'axes.prop_cycle' rcParam.\n",
      "    \n",
      "    Parameters\n",
      "    ----------\n",
      "    x, y : array-like or scalar\n",
      "        The horizontal / vertical coordinates of the data points.\n",
      "        *x* values are optional. If not given, they default to\n",
      "        ``[0, ..., N-1]``.\n",
      "    \n",
      "        Commonly, these parameters are arrays of length N. However,\n",
      "        scalars are supported as well (equivalent to an array with\n",
      "        constant value).\n",
      "    \n",
      "        The parameters can also be 2-dimensional. Then, the columns\n",
      "        represent separate data sets.\n",
      "    \n",
      "    fmt : str, optional\n",
      "        A format string, e.g. 'ro' for red circles. See the *Notes*\n",
      "        section for a full description of the format strings.\n",
      "    \n",
      "        Format strings are just an abbreviation for quickly setting\n",
      "        basic line properties. All of these and more can also be\n",
      "        controlled by keyword arguments.\n",
      "    \n",
      "    data : indexable object, optional\n",
      "        An object with labelled data. If given, provide the label names to\n",
      "        plot in *x* and *y*.\n",
      "    \n",
      "        .. note::\n",
      "            Technically there's a slight ambiguity in calls where the\n",
      "            second label is a valid *fmt*. `plot('n', 'o', data=obj)`\n",
      "            could be `plt(x, y)` or `plt(y, fmt)`. In such cases,\n",
      "            the former interpretation is chosen, but a warning is issued.\n",
      "            You may suppress the warning by adding an empty format string\n",
      "            `plot('n', 'o', '', data=obj)`.\n",
      "    \n",
      "    \n",
      "    Other Parameters\n",
      "    ----------------\n",
      "    scalex, scaley : bool, optional, default: True\n",
      "        These parameters determined if the view limits are adapted to\n",
      "        the data limits. The values are passed on to `autoscale_view`.\n",
      "    \n",
      "    **kwargs : `.Line2D` properties, optional\n",
      "        *kwargs* are used to specify properties like a line label (for\n",
      "        auto legends), linewidth, antialiasing, marker face color.\n",
      "        Example::\n",
      "    \n",
      "        >>> plot([1,2,3], [1,2,3], 'go-', label='line 1', linewidth=2)\n",
      "        >>> plot([1,2,3], [1,4,9], 'rs',  label='line 2')\n",
      "    \n",
      "        If you make multiple lines with one plot command, the kwargs\n",
      "        apply to all those lines.\n",
      "    \n",
      "        Here is a list of available `.Line2D` properties:\n",
      "    \n",
      "          agg_filter: a filter function, which takes a (m, n, 3) float array and a dpi value, and returns a (m, n, 3) array \n",
      "      alpha: float\n",
      "      animated: bool\n",
      "      antialiased: bool\n",
      "      clip_box: `.Bbox`\n",
      "      clip_on: bool\n",
      "      clip_path: [(`~matplotlib.path.Path`, `.Transform`) | `.Patch` | None] \n",
      "      color: color\n",
      "      contains: callable\n",
      "      dash_capstyle: {'butt', 'round', 'projecting'}\n",
      "      dash_joinstyle: {'miter', 'round', 'bevel'}\n",
      "      dashes: sequence of floats (on/off ink in points) or (None, None)\n",
      "      drawstyle: {'default', 'steps', 'steps-pre', 'steps-mid', 'steps-post'}\n",
      "      figure: `.Figure`\n",
      "      fillstyle: {'full', 'left', 'right', 'bottom', 'top', 'none'}\n",
      "      gid: str\n",
      "      in_layout: bool\n",
      "      label: object\n",
      "      linestyle: {'-', '--', '-.', ':', '', (offset, on-off-seq), ...}\n",
      "      linewidth: float\n",
      "      marker: unknown\n",
      "      markeredgecolor: color\n",
      "      markeredgewidth: float\n",
      "      markerfacecolor: color\n",
      "      markerfacecoloralt: color\n",
      "      markersize: float\n",
      "      markevery: unknown\n",
      "      path_effects: `.AbstractPathEffect`\n",
      "      picker: float or callable[[Artist, Event], Tuple[bool, dict]]\n",
      "      pickradius: float\n",
      "      rasterized: bool or None\n",
      "      sketch_params: (scale: float, length: float, randomness: float) \n",
      "      snap: bool or None\n",
      "      solid_capstyle: {'butt', 'round', 'projecting'}\n",
      "      solid_joinstyle: {'miter', 'round', 'bevel'}\n",
      "      transform: matplotlib.transforms.Transform\n",
      "      url: str\n",
      "      visible: bool\n",
      "      xdata: 1D array\n",
      "      ydata: 1D array\n",
      "      zorder: float\n",
      "    \n",
      "    Returns\n",
      "    -------\n",
      "    lines\n",
      "        A list of `.Line2D` objects representing the plotted data.\n",
      "    \n",
      "    \n",
      "    See Also\n",
      "    --------\n",
      "    scatter : XY scatter plot with markers of varying size and/or color (\n",
      "        sometimes also called bubble chart).\n",
      "    \n",
      "    \n",
      "    Notes\n",
      "    -----\n",
      "    **Format Strings**\n",
      "    \n",
      "    A format string consists of a part for color, marker and line::\n",
      "    \n",
      "        fmt = '[color][marker][line]'\n",
      "    \n",
      "    Each of them is optional. If not provided, the value from the style\n",
      "    cycle is used. Exception: If ``line`` is given, but no ``marker``,\n",
      "    the data will be a line without markers.\n",
      "    \n",
      "    **Colors**\n",
      "    \n",
      "    The following color abbreviations are supported:\n",
      "    \n",
      "    =============    ===============================\n",
      "    character        color\n",
      "    =============    ===============================\n",
      "    ``'b'``          blue\n",
      "    ``'g'``          green\n",
      "    ``'r'``          red\n",
      "    ``'c'``          cyan\n",
      "    ``'m'``          magenta\n",
      "    ``'y'``          yellow\n",
      "    ``'k'``          black\n",
      "    ``'w'``          white\n",
      "    =============    ===============================\n",
      "    \n",
      "    If the color is the only part of the format string, you can\n",
      "    additionally use any  `matplotlib.colors` spec, e.g. full names\n",
      "    (``'green'``) or hex strings (``'#008000'``).\n",
      "    \n",
      "    **Markers**\n",
      "    \n",
      "    =============    ===============================\n",
      "    character        description\n",
      "    =============    ===============================\n",
      "    ``'.'``          point marker\n",
      "    ``','``          pixel marker\n",
      "    ``'o'``          circle marker\n",
      "    ``'v'``          triangle_down marker\n",
      "    ``'^'``          triangle_up marker\n",
      "    ``'<'``          triangle_left marker\n",
      "    ``'>'``          triangle_right marker\n",
      "    ``'1'``          tri_down marker\n",
      "    ``'2'``          tri_up marker\n",
      "    ``'3'``          tri_left marker\n",
      "    ``'4'``          tri_right marker\n",
      "    ``'s'``          square marker\n",
      "    ``'p'``          pentagon marker\n",
      "    ``'*'``          star marker\n",
      "    ``'h'``          hexagon1 marker\n",
      "    ``'H'``          hexagon2 marker\n",
      "    ``'+'``          plus marker\n",
      "    ``'x'``          x marker\n",
      "    ``'D'``          diamond marker\n",
      "    ``'d'``          thin_diamond marker\n",
      "    ``'|'``          vline marker\n",
      "    ``'_'``          hline marker\n",
      "    =============    ===============================\n",
      "    \n",
      "    **Line Styles**\n",
      "    \n",
      "    =============    ===============================\n",
      "    character        description\n",
      "    =============    ===============================\n",
      "    ``'-'``          solid line style\n",
      "    ``'--'``         dashed line style\n",
      "    ``'-.'``         dash-dot line style\n",
      "    ``':'``          dotted line style\n",
      "    =============    ===============================\n",
      "    \n",
      "    Example format strings::\n",
      "    \n",
      "        'b'    # blue markers with default shape\n",
      "        'ro'   # red circles\n",
      "        'g-'   # green solid line\n",
      "        '--'   # dashed line with default color\n",
      "        'k^:'  # black triangle_up markers connected by a dotted line\n",
      "    \n",
      "    .. note::\n",
      "        In addition to the above described arguments, this function can take a\n",
      "        **data** keyword argument. If such a **data** argument is given, the\n",
      "        following arguments are replaced by **data[<arg>]**:\n",
      "    \n",
      "        * All arguments with the following names: 'x', 'y'.\n",
      "    \n",
      "        Objects passed as **data** must support item access (``data[<arg>]``) and\n",
      "        membership test (``<arg> in data``).\n",
      "\n"
     ]
    }
   ],
   "source": [
    "## Description about ploting\n",
    "help(plt.plot)"
   ]
  },
  {
   "cell_type": "code",
   "execution_count": 14,
   "metadata": {},
   "outputs": [
    {
     "data": {
      "text/plain": [
       "[<matplotlib.lines.Line2D at 0x14f0b17bb00>]"
      ]
     },
     "execution_count": 14,
     "metadata": {},
     "output_type": "execute_result"
    },
    {
     "data": {
      "image/png": "[encoded data removed]",
      "text/plain": [
       "<Figure size 432x288 with 1 Axes>"
      ]
     },
     "metadata": {
      "needs_background": "light"
     },
     "output_type": "display_data"
    }
   ],
   "source": [
    "## Creating an array\n",
    "x=np.array([2,8,3,6])\n",
    "y=x*2+3\n",
    "## (2,7)(8,19)(3,9)(6,15) - x,y cordinated\n",
    "plt.plot(x,y)"
   ]
  },
  {
   "cell_type": "code",
   "execution_count": 12,
   "metadata": {},
   "outputs": [
    {
     "data": {
      "text/plain": [
       "[<matplotlib.lines.Line2D at 0x14f0b0c7128>]"
      ]
     },
     "execution_count": 12,
     "metadata": {},
     "output_type": "execute_result"
    },
    {
     "data": {
      "image/png": "[encoded data removed]",
      "text/plain": [
       "<Figure size 432x288 with 1 Axes>"
      ]
     },
     "metadata": {
      "needs_background": "light"
     },
     "output_type": "display_data"
    }
   ],
   "source": [
    "plt.plot(x,y,'o')"
   ]
  },
  {
   "cell_type": "code",
   "execution_count": 6,
   "metadata": {},
   "outputs": [
    {
     "data": {
      "text/plain": [
       "[<matplotlib.lines.Line2D at 0x14f0aee92e8>]"
      ]
     },
     "execution_count": 6,
     "metadata": {},
     "output_type": "execute_result"
    },
    {
     "data": {
      "image/png": "[encoded data removed]",
      "text/plain": [
       "<Figure size 432x288 with 1 Axes>"
      ]
     },
     "metadata": {
      "needs_background": "light"
     },
     "output_type": "display_data"
    }
   ],
   "source": [
    "plt.plot(x,y,'-')"
   ]
  },
  {
   "cell_type": "code",
   "execution_count": 10,
   "metadata": {},
   "outputs": [
    {
     "data": {
      "text/plain": [
       "[<matplotlib.lines.Line2D at 0x14f0b005550>]"
      ]
     },
     "execution_count": 10,
     "metadata": {},
     "output_type": "execute_result"
    },
    {
     "data": {
      "image/png": "[encoded data removed]",
      "text/plain": [
       "<Figure size 432x288 with 1 Axes>"
      ]
     },
     "metadata": {
      "needs_background": "light"
     },
     "output_type": "display_data"
    }
   ],
   "source": [
    "## Getting co-ordinates in red color\n",
    "plt.plot(x,y,'r+')"
   ]
  },
  {
   "cell_type": "code",
   "execution_count": 9,
   "metadata": {},
   "outputs": [
    {
     "data": {
      "text/plain": [
       "[<matplotlib.lines.Line2D at 0x14f0afa64a8>]"
      ]
     },
     "execution_count": 9,
     "metadata": {},
     "output_type": "execute_result"
    },
    {
     "data": {
      "image/png": "[encoded data removed]",
      "text/plain": [
       "<Figure size 432x288 with 1 Axes>"
      ]
     },
     "metadata": {
      "needs_background": "light"
     },
     "output_type": "display_data"
    }
   ],
   "source": [
    "plt.plot(x,y,'bo')"
   ]
  },
  {
   "cell_type": "code",
   "execution_count": 15,
   "metadata": {},
   "outputs": [
    {
     "data": {
      "text/plain": [
       "[<matplotlib.lines.Line2D at 0x14f0b1cf860>]"
      ]
     },
     "execution_count": 15,
     "metadata": {},
     "output_type": "execute_result"
    },
    {
     "data": {
      "image/png": "[encoded data removed]",
      "text/plain": [
       "<Figure size 432x288 with 1 Axes>"
      ]
     },
     "metadata": {
      "needs_background": "light"
     },
     "output_type": "display_data"
    }
   ],
   "source": [
    "plt.plot(x,y,'go')"
   ]
  },
  {
   "cell_type": "code",
   "execution_count": 26,
   "metadata": {},
   "outputs": [
    {
     "data": {
      "text/plain": [
       "[<matplotlib.lines.Line2D at 0x14f0c5accf8>]"
      ]
     },
     "execution_count": 26,
     "metadata": {},
     "output_type": "execute_result"
    },
    {
     "data": {
      "image/png": "[encoded data removed]",
      "text/plain": [
       "<Figure size 432x288 with 1 Axes>"
      ]
     },
     "metadata": {
      "needs_background": "light"
     },
     "output_type": "display_data"
    }
   ],
   "source": [
    "plt.plot(x, y, 'go--', linewidth=5, markersize=10)"
   ]
  },
  {
   "cell_type": "code",
   "execution_count": 32,
   "metadata": {},
   "outputs": [
    {
     "data": {
      "text/plain": [
       "[<matplotlib.lines.Line2D at 0x14f0c7579e8>]"
      ]
     },
     "execution_count": 32,
     "metadata": {},
     "output_type": "execute_result"
    },
    {
     "data": {
      "image/png": "[encoded data removed]",
      "text/plain": [
       "<Figure size 432x288 with 1 Axes>"
      ]
     },
     "metadata": {
      "needs_background": "light"
     },
     "output_type": "display_data"
    }
   ],
   "source": [
    "plt.plot(x, y, color='green', marker='2', linestyle='dashed',linewidth=2, markersize=12)"
   ]
  },
  {
   "cell_type": "code",
   "execution_count": 35,
   "metadata": {},
   "outputs": [
    {
     "data": {
      "text/plain": [
       "[<matplotlib.lines.Line2D at 0x14f0c87a438>]"
      ]
     },
     "execution_count": 35,
     "metadata": {},
     "output_type": "execute_result"
    },
    {
     "data": {
      "image/png": "[encoded data removed]",
      "text/plain": [
       "<Figure size 432x288 with 1 Axes>"
      ]
     },
     "metadata": {
      "needs_background": "light"
     },
     "output_type": "display_data"
    }
   ],
   "source": [
    "plt.plot(x,'>')"
   ]
  },
  {
   "cell_type": "code",
   "execution_count": 49,
   "metadata": {},
   "outputs": [
    {
     "data": {
      "text/plain": [
       "[<matplotlib.lines.Line2D at 0x14f0cd600f0>]"
      ]
     },
     "execution_count": 49,
     "metadata": {},
     "output_type": "execute_result"
    },
    {
     "data": {
      "image/png": "[encoded data removed]",
      "text/plain": [
       "<Figure size 432x288 with 1 Axes>"
      ]
     },
     "metadata": {
      "needs_background": "light"
     },
     "output_type": "display_data"
    }
   ],
   "source": [
    "plt.plot([2,4,8,4],[3,4,7,9],'o--', linewidth=\"2\", markersize=\"20\")"
   ]
  },
  {
   "cell_type": "code",
   "execution_count": 50,
   "metadata": {},
   "outputs": [
    {
     "data": {
      "text/plain": [
       "[<matplotlib.lines.Line2D at 0x14f0cdbd278>]"
      ]
     },
     "execution_count": 50,
     "metadata": {},
     "output_type": "execute_result"
    },
    {
     "data": {
      "image/png": "[encoded data removed]",
      "text/plain": [
       "<Figure size 432x288 with 1 Axes>"
      ]
     },
     "metadata": {
      "needs_background": "light"
     },
     "output_type": "display_data"
    }
   ],
   "source": [
    "plt.plot(x,x*x)"
   ]
  },
  {
   "cell_type": "code",
   "execution_count": 56,
   "metadata": {},
   "outputs": [
    {
     "data": {
      "text/plain": [
       "[<matplotlib.lines.Line2D at 0x14f0df5be10>]"
      ]
     },
     "execution_count": 56,
     "metadata": {},
     "output_type": "execute_result"
    },
    {
     "data": {
      "image/png": "[encoded data removed]",
      "text/plain": [
       "<Figure size 432x288 with 1 Axes>"
      ]
     },
     "metadata": {
      "needs_background": "light"
     },
     "output_type": "display_data"
    }
   ],
   "source": [
    "a=np.arange(10)\n",
    "plt.plot(a,a*2,'r')\n",
    "plt.plot(a,a**2,'b')\n",
    "plt.plot(a,a*a+2*a,'r+')"
   ]
  },
  {
   "cell_type": "code",
   "execution_count": 65,
   "metadata": {},
   "outputs": [
    {
     "data": {
      "text/plain": [
       "([<matplotlib.axis.YTick at 0x14f09c2b7f0>,\n",
       "  <matplotlib.axis.YTick at 0x14f0e275518>,\n",
       "  <matplotlib.axis.YTick at 0x14f0e26e518>,\n",
       "  <matplotlib.axis.YTick at 0x14f0c687860>,\n",
       "  <matplotlib.axis.YTick at 0x14f0c6a5438>,\n",
       "  <matplotlib.axis.YTick at 0x14f0c6a5518>,\n",
       "  <matplotlib.axis.YTick at 0x14f0c67d4e0>,\n",
       "  <matplotlib.axis.YTick at 0x14f0c67df28>,\n",
       "  <matplotlib.axis.YTick at 0x14f0c67de10>,\n",
       "  <matplotlib.axis.YTick at 0x14f0e275f60>],\n",
       " <a list of 10 Text yticklabel objects>)"
      ]
     },
     "execution_count": 65,
     "metadata": {},
     "output_type": "execute_result"
    },
    {
     "data": {
      "image/png": "[encoded data removed]",
      "text/plain": [
       "<Figure size 432x288 with 1 Axes>"
      ]
     },
     "metadata": {
      "needs_background": "light"
     },
     "output_type": "display_data"
    }
   ],
   "source": [
    "plt.figure(figsize=(6,4)) ### Size of the graph (width,height)\n",
    "plt.plot(a,a**3+2,'o')\n",
    "plt.title(\"LINE EQUATION\") ## Title of the graph\n",
    "plt.xlabel('a values') ## X-axis label\n",
    "plt.ylabel('b values') ## Y-axis label\n",
    "plt.xticks(a)\n",
    "plt.yticks(a**3+2)"
   ]
  },
  {
   "cell_type": "code",
   "execution_count": 73,
   "metadata": {},
   "outputs": [
    {
     "data": {
      "text/plain": [
       "([<matplotlib.axis.YTick at 0x14f0e2a6cf8>,\n",
       "  <matplotlib.axis.YTick at 0x14f0e417240>,\n",
       "  <matplotlib.axis.YTick at 0x14f0e3c8c88>,\n",
       "  <matplotlib.axis.YTick at 0x14f0e436668>],\n",
       " <a list of 4 Text yticklabel objects>)"
      ]
     },
     "execution_count": 73,
     "metadata": {},
     "output_type": "execute_result"
    },
    {
     "data": {
      "image/png": "[encoded data removed]",
      "text/plain": [
       "<Figure size 432x288 with 1 Axes>"
      ]
     },
     "metadata": {
      "needs_background": "light"
     },
     "output_type": "display_data"
    }
   ],
   "source": [
    "x,y=[2,4,6,7],[3,4,5,7]\n",
    "plt.figure(figsize=(6,4)) ### Size of the graph (width,height)\n",
    "plt.plot(x,y,'--')\n",
    "plt.title(\"LINE EQUATION\") ## Title of the graph\n",
    "plt.xlabel('x values') ## X-axis label\n",
    "plt.ylabel('y values') ## Y-axis label\n",
    "plt.xticks(x) ## Shows Provided values on x-axis\n",
    "plt.yticks(y) ## Shows provided values on Y-axis"
   ]
  },
  {
   "cell_type": "markdown",
   "metadata": {},
   "source": [
    "#### Scatter plot\n",
    "+ x-axis - Feature1 - c\n",
    "+ y -axis - Feature2 - d"
   ]
  },
  {
   "cell_type": "code",
   "execution_count": 75,
   "metadata": {},
   "outputs": [
    {
     "data": {
      "text/plain": [
       "<matplotlib.collections.PathCollection at 0x14f0e4d0128>"
      ]
     },
     "execution_count": 75,
     "metadata": {},
     "output_type": "execute_result"
    },
    {
     "data": {
      "image/png": "[encoded data removed]",
      "text/plain": [
       "<Figure size 432x288 with 1 Axes>"
      ]
     },
     "metadata": {
      "needs_background": "light"
     },
     "output_type": "display_data"
    }
   ],
   "source": [
    "c=np.random.randint(100,size=20)\n",
    "d=np.random.randint(100,200,(20))\n",
    "plt.scatter(c,d)"
   ]
  },
  {
   "cell_type": "code",
   "execution_count": 76,
   "metadata": {},
   "outputs": [
    {
     "data": {
      "text/plain": [
       "<matplotlib.collections.PathCollection at 0x14f0e5253c8>"
      ]
     },
     "execution_count": 76,
     "metadata": {},
     "output_type": "execute_result"
    },
    {
     "data": {
      "image/png": "[encoded data removed]",
      "text/plain": [
       "<Figure size 432x288 with 1 Axes>"
      ]
     },
     "metadata": {
      "needs_background": "light"
     },
     "output_type": "display_data"
    }
   ],
   "source": [
    "c=np.random.randint(100,size=20)\n",
    "d1=c*5\n",
    "plt.scatter(c,d1)"
   ]
  },
  {
   "cell_type": "markdown",
   "metadata": {},
   "source": [
    "#### Histogram"
   ]
  },
  {
   "cell_type": "code",
   "execution_count": 77,
   "metadata": {},
   "outputs": [
    {
     "data": {
      "text/plain": [
       "(array([3., 1., 0., 1., 0., 1., 2., 1., 0., 1.]),\n",
       " array([10. , 16.9, 23.8, 30.7, 37.6, 44.5, 51.4, 58.3, 65.2, 72.1, 79. ]),\n",
       " <a list of 10 Patch objects>)"
      ]
     },
     "execution_count": 77,
     "metadata": {},
     "output_type": "execute_result"
    },
    {
     "data": {
      "image/png": "[encoded data removed]",
      "text/plain": [
       "<Figure size 432x288 with 1 Axes>"
      ]
     },
     "metadata": {
      "needs_background": "light"
     },
     "output_type": "display_data"
    }
   ],
   "source": [
    "marks=[10,15,20,15,45,36,79,65,54,56]\n",
    "plt.hist(marks)"
   ]
  },
  {
   "cell_type": "code",
   "execution_count": 78,
   "metadata": {},
   "outputs": [
    {
     "data": {
      "text/plain": [
       "(array([4., 1., 1., 3., 1.]),\n",
       " array([10. , 23.8, 37.6, 51.4, 65.2, 79. ]),\n",
       " <a list of 5 Patch objects>)"
      ]
     },
     "execution_count": 78,
     "metadata": {},
     "output_type": "execute_result"
    },
    {
     "data": {
      "image/png": "[encoded data removed]",
      "text/plain": [
       "<Figure size 432x288 with 1 Axes>"
      ]
     },
     "metadata": {
      "needs_background": "light"
     },
     "output_type": "display_data"
    }
   ],
   "source": [
    "plt.hist(marks,bins=5)"
   ]
  },
  {
   "cell_type": "code",
   "execution_count": 85,
   "metadata": {},
   "outputs": [
    {
     "data": {
      "text/plain": [
       "(array([1., 0., 1., 0., 0., 1., 0., 1., 0., 0., 1., 0., 1., 0., 0., 1., 0.,\n",
       "        1., 0., 1.]),\n",
       " array([1. , 1.4, 1.8, 2.2, 2.6, 3. , 3.4, 3.8, 4.2, 4.6, 5. , 5.4, 5.8,\n",
       "        6.2, 6.6, 7. , 7.4, 7.8, 8.2, 8.6, 9. ]),\n",
       " <a list of 20 Patch objects>)"
      ]
     },
     "execution_count": 85,
     "metadata": {},
     "output_type": "execute_result"
    },
    {
     "data": {
      "image/png": "[encoded data removed]",
      "text/plain": [
       "<Figure size 432x288 with 1 Axes>"
      ]
     },
     "metadata": {
      "needs_background": "light"
     },
     "output_type": "display_data"
    }
   ],
   "source": [
    "plt.hist(range(1,10),bins=20)"
   ]
  },
  {
   "cell_type": "code",
   "execution_count": 87,
   "metadata": {},
   "outputs": [
    {
     "data": {
      "text/plain": [
       "(array([1., 1., 1., 1., 0., 0., 0., 1., 1., 1.]),\n",
       " array([ 1. ,  1.9,  2.8,  3.7,  4.6,  5.5,  6.4,  7.3,  8.2,  9.1, 10. ]),\n",
       " <a list of 10 Patch objects>)"
      ]
     },
     "execution_count": 87,
     "metadata": {},
     "output_type": "execute_result"
    },
    {
     "data": {
      "image/png": "[encoded data removed]",
      "text/plain": [
       "<Figure size 432x288 with 1 Axes>"
      ]
     },
     "metadata": {
      "needs_background": "light"
     },
     "output_type": "display_data"
    }
   ],
   "source": [
    "plt.hist([1,2,3,4,8,9,10])"
   ]
  },
  {
   "cell_type": "code",
   "execution_count": 91,
   "metadata": {},
   "outputs": [
    {
     "data": {
      "text/plain": [
       "(array([3., 1., 1., 0., 1.]),\n",
       " array([10., 18., 26., 34., 42., 50.]),\n",
       " <a list of 5 Patch objects>)"
      ]
     },
     "execution_count": 91,
     "metadata": {},
     "output_type": "execute_result"
    },
    {
     "data": {
      "image/png": "[encoded data removed]",
      "text/plain": [
       "<Figure size 432x288 with 1 Axes>"
      ]
     },
     "metadata": {
      "needs_background": "light"
     },
     "output_type": "display_data"
    }
   ],
   "source": [
    "plt.hist([10,30,50,10,20,10],bins=5)"
   ]
  },
  {
   "cell_type": "markdown",
   "metadata": {},
   "source": [
    "### Skewed Data\n",
    "+ Positively skewed data\n",
    "+ Negatively skewed data"
   ]
  },
  {
   "cell_type": "markdown",
   "metadata": {},
   "source": [
    "#### Uniform distribution"
   ]
  },
  {
   "cell_type": "code",
   "execution_count": 93,
   "metadata": {},
   "outputs": [
    {
     "data": {
      "text/plain": [
       "(array([1., 1., 1., 1., 1., 1., 1., 1., 1., 1.]),\n",
       " array([ 1. ,  1.9,  2.8,  3.7,  4.6,  5.5,  6.4,  7.3,  8.2,  9.1, 10. ]),\n",
       " <a list of 10 Patch objects>)"
      ]
     },
     "execution_count": 93,
     "metadata": {},
     "output_type": "execute_result"
    },
    {
     "data": {
      "image/png": "[encoded data removed]",
      "text/plain": [
       "<Figure size 432x288 with 1 Axes>"
      ]
     },
     "metadata": {
      "needs_background": "light"
     },
     "output_type": "display_data"
    }
   ],
   "source": [
    "plt.hist(range(1,11)) ## Distribution of data uniformly"
   ]
  },
  {
   "cell_type": "markdown",
   "metadata": {},
   "source": [
    "#### Normal distribution"
   ]
  },
  {
   "cell_type": "code",
   "execution_count": 94,
   "metadata": {},
   "outputs": [
    {
     "data": {
      "text/plain": [
       "(array([1., 1., 2., 2., 7.]),\n",
       " array([1., 2., 3., 4., 5., 6.]),\n",
       " <a list of 5 Patch objects>)"
      ]
     },
     "execution_count": 94,
     "metadata": {},
     "output_type": "execute_result"
    },
    {
     "data": {
      "image/png": "[encoded data removed]",
      "text/plain": [
       "<Figure size 432x288 with 1 Axes>"
      ]
     },
     "metadata": {
      "needs_background": "light"
     },
     "output_type": "display_data"
    }
   ],
   "source": [
    "plt.hist([1,2,3,4,5,6,6,5,5,5,3,4,5],bins=5)"
   ]
  },
  {
   "cell_type": "code",
   "execution_count": 95,
   "metadata": {},
   "outputs": [
    {
     "data": {
      "text/plain": [
       "RAGHU       2\n",
       "MIITS       1\n",
       "SRKR        1\n",
       "GAYATHRI    1\n",
       "IIIT        1\n",
       "dtype: int64"
      ]
     },
     "execution_count": 95,
     "metadata": {},
     "output_type": "execute_result"
    }
   ],
   "source": [
    "colleges=pd.Series(['IIIT','RAGHU','RAGHU','SRKR','MIITS','GAYATHRI'])\n",
    "colleges.value_counts()"
   ]
  },
  {
   "cell_type": "code",
   "execution_count": 126,
   "metadata": {},
   "outputs": [
    {
     "data": {
      "text/plain": [
       "<BarContainer object of 5 artists>"
      ]
     },
     "execution_count": 126,
     "metadata": {},
     "output_type": "execute_result"
    },
    {
     "data": {
      "image/png": "[encoded data removed]",
      "text/plain": [
       "<Figure size 432x288 with 1 Axes>"
      ]
     },
     "metadata": {
      "needs_background": "light"
     },
     "output_type": "display_data"
    }
   ],
   "source": [
    "names=colleges.value_counts().index\n",
    "plt.bar(names,colleges.value_counts(),color=['#884ea0','#f7dc6f','#28b463','#eb984e','#d4ac0d'])"
   ]
  },
  {
   "cell_type": "markdown",
   "metadata": {},
   "source": [
    "### Seaborn\n",
    "#### Distplot\n",
    "+ Y - axis proportion"
   ]
  },
  {
   "cell_type": "code",
   "execution_count": 128,
   "metadata": {},
   "outputs": [
    {
     "data": {
      "text/plain": [
       "<matplotlib.axes._subplots.AxesSubplot at 0x14f114c4668>"
      ]
     },
     "execution_count": 128,
     "metadata": {},
     "output_type": "execute_result"
    },
    {
     "data": {
      "image/png": "[encoded data removed]",
      "text/plain": [
       "<Figure size 432x288 with 1 Axes>"
      ]
     },
     "metadata": {
      "needs_background": "light"
     },
     "output_type": "display_data"
    }
   ],
   "source": [
    "marks=[98,76,35,47,58,65,63,45,34,89,90,70,60]\n",
    "sns.distplot(marks)"
   ]
  },
  {
   "cell_type": "code",
   "execution_count": 112,
   "metadata": {},
   "outputs": [
    {
     "data": {
      "text/plain": [
       "<matplotlib.axes._subplots.AxesSubplot at 0x14f10081cc0>"
      ]
     },
     "execution_count": 112,
     "metadata": {},
     "output_type": "execute_result"
    },
    {
     "data": {
      "image/png": "[encoded data removed]",
      "text/plain": [
       "<Figure size 432x288 with 1 Axes>"
      ]
     },
     "metadata": {
      "needs_background": "light"
     },
     "output_type": "display_data"
    }
   ],
   "source": [
    "sns.distplot(marks,hist=False)"
   ]
  },
  {
   "cell_type": "code",
   "execution_count": 114,
   "metadata": {},
   "outputs": [
    {
     "data": {
      "text/plain": [
       "<matplotlib.axes._subplots.AxesSubplot at 0x14f1111ce80>"
      ]
     },
     "execution_count": 114,
     "metadata": {},
     "output_type": "execute_result"
    },
    {
     "data": {
      "image/png": "[encoded data removed]",
      "text/plain": [
       "<Figure size 432x288 with 1 Axes>"
      ]
     },
     "metadata": {
      "needs_background": "light"
     },
     "output_type": "display_data"
    }
   ],
   "source": [
    "sns.distplot(marks,rug=True, hist=False)"
   ]
  },
  {
   "cell_type": "markdown",
   "metadata": {},
   "source": [
    "### Countplot"
   ]
  },
  {
   "cell_type": "code",
   "execution_count": 129,
   "metadata": {},
   "outputs": [
    {
     "data": {
      "text/plain": [
       "<matplotlib.axes._subplots.AxesSubplot at 0x14f112f3f28>"
      ]
     },
     "execution_count": 129,
     "metadata": {},
     "output_type": "execute_result"
    },
    {
     "data": {
      "image/png": "[encoded data removed]",
      "text/plain": [
       "<Figure size 432x288 with 1 Axes>"
      ]
     },
     "metadata": {
      "needs_background": "light"
     },
     "output_type": "display_data"
    }
   ],
   "source": [
    "sns.countplot(colleges)"
   ]
  },
  {
   "cell_type": "code",
   "execution_count": 141,
   "metadata": {},
   "outputs": [
    {
     "data": {
      "text/plain": [
       "[<matplotlib.lines.Line2D at 0x14f12085240>]"
      ]
     },
     "execution_count": 141,
     "metadata": {},
     "output_type": "execute_result"
    },
    {
     "data": {
      "image/png": "[encoded data removed]",
      "text/plain": [
       "<Figure size 432x288 with 2 Axes>"
      ]
     },
     "metadata": {
      "needs_background": "light"
     },
     "output_type": "display_data"
    }
   ],
   "source": [
    "plt.subplot(2,1,1)\n",
    "plt.plot(x,y)\n",
    "plt.subplot(2,1,2)\n",
    "plt.plot(x,[4,4,5,6],'ro')"
   ]
  },
  {
   "cell_type": "code",
   "execution_count": null,
   "metadata": {},
   "outputs": [],
   "source": []
  },
  {
   "cell_type": "code",
   "execution_count": 140,
   "metadata": {
    "scrolled": true
   },
   "outputs": [
    {
     "data": {
      "text/plain": [
       "Text(0.5, 1.0, 'y=x*x')"
      ]
     },
     "execution_count": 140,
     "metadata": {},
     "output_type": "execute_result"
    },
    {
     "data": {
      "image/png": "[encoded data removed]",
      "text/plain": [
       "<Figure size 432x288 with 2 Axes>"
      ]
     },
     "metadata": {
      "needs_background": "light"
     },
     "output_type": "display_data"
    }
   ],
   "source": [
    "plt.subplot(2,1,1)\n",
    "plt.plot(x,y)\n",
    "plt.title(\"line\")\n",
    "plt.subplot(2,1,2)\n",
    "plt.plot(x,[2,4,5,6],'o')\n",
    "plt.title(\"y=x*x\")"
   ]
  },
  {
   "cell_type": "code",
   "execution_count": 143,
   "metadata": {},
   "outputs": [
    {
     "data": {
      "text/plain": [
       "<matplotlib.axes._subplots.AxesSubplot at 0x14f11c8b1d0>"
      ]
     },
     "execution_count": 143,
     "metadata": {},
     "output_type": "execute_result"
    },
    {
     "data": {
      "image/png": "[encoded data removed]",
      "text/plain": [
       "<Figure size 432x288 with 2 Axes>"
      ]
     },
     "metadata": {
      "needs_background": "light"
     },
     "output_type": "display_data"
    }
   ],
   "source": [
    "plt.subplot(1,2,1)\n",
    "plt.plot(x,y)\n",
    "plt.subplot(1,2,2)\n",
    "sns.countplot(colleges)"
   ]
  },
  {
   "cell_type": "code",
   "execution_count": 145,
   "metadata": {},
   "outputs": [
    {
     "data": {
      "text/plain": [
       "40.0"
      ]
     },
     "execution_count": 145,
     "metadata": {},
     "output_type": "execute_result"
    }
   ],
   "source": [
    "np.median([10,20,60,40,50])"
   ]
  },
  {
   "cell_type": "code",
   "execution_count": 6,
   "metadata": {},
   "outputs": [
    {
     "data": {
      "text/html": [
       "<div>\n",
       "<style scoped>\n",
       "    .dataframe tbody tr th:only-of-type {\n",
       "        vertical-align: middle;\n",
       "    }\n",
       "\n",
       "    .dataframe tbody tr th {\n",
       "        vertical-align: top;\n",
       "    }\n",
       "\n",
       "    .dataframe thead th {\n",
       "        text-align: right;\n",
       "    }\n",
       "</style>\n",
       "<table border=\"1\" class=\"dataframe\">\n",
       "  <thead>\n",
       "    <tr style=\"text-align: right;\">\n",
       "      <th></th>\n",
       "      <th>Ord_id</th>\n",
       "      <th>Prod_id</th>\n",
       "      <th>Ship_id</th>\n",
       "      <th>Cust_id</th>\n",
       "      <th>Sales</th>\n",
       "      <th>Discount</th>\n",
       "      <th>Order_Quantity</th>\n",
       "      <th>Profit</th>\n",
       "      <th>Shipping_Cost</th>\n",
       "      <th>Product_Base_Margin</th>\n",
       "    </tr>\n",
       "  </thead>\n",
       "  <tbody>\n",
       "    <tr>\n",
       "      <th>0</th>\n",
       "      <td>Ord_5446</td>\n",
       "      <td>Prod_16</td>\n",
       "      <td>SHP_7609</td>\n",
       "      <td>Cust_1818</td>\n",
       "      <td>136.8100</td>\n",
       "      <td>0.01</td>\n",
       "      <td>23</td>\n",
       "      <td>-30.51</td>\n",
       "      <td>3.60</td>\n",
       "      <td>0.56</td>\n",
       "    </tr>\n",
       "    <tr>\n",
       "      <th>1</th>\n",
       "      <td>Ord_5406</td>\n",
       "      <td>Prod_13</td>\n",
       "      <td>SHP_7549</td>\n",
       "      <td>Cust_1818</td>\n",
       "      <td>42.2700</td>\n",
       "      <td>0.01</td>\n",
       "      <td>13</td>\n",
       "      <td>4.56</td>\n",
       "      <td>0.93</td>\n",
       "      <td>0.54</td>\n",
       "    </tr>\n",
       "    <tr>\n",
       "      <th>2</th>\n",
       "      <td>Ord_5446</td>\n",
       "      <td>Prod_4</td>\n",
       "      <td>SHP_7610</td>\n",
       "      <td>Cust_1818</td>\n",
       "      <td>4701.6900</td>\n",
       "      <td>0.00</td>\n",
       "      <td>26</td>\n",
       "      <td>1148.90</td>\n",
       "      <td>2.50</td>\n",
       "      <td>0.59</td>\n",
       "    </tr>\n",
       "    <tr>\n",
       "      <th>3</th>\n",
       "      <td>Ord_5456</td>\n",
       "      <td>Prod_6</td>\n",
       "      <td>SHP_7625</td>\n",
       "      <td>Cust_1818</td>\n",
       "      <td>2337.8900</td>\n",
       "      <td>0.09</td>\n",
       "      <td>43</td>\n",
       "      <td>729.34</td>\n",
       "      <td>14.30</td>\n",
       "      <td>0.37</td>\n",
       "    </tr>\n",
       "    <tr>\n",
       "      <th>4</th>\n",
       "      <td>Ord_5485</td>\n",
       "      <td>Prod_17</td>\n",
       "      <td>SHP_7664</td>\n",
       "      <td>Cust_1818</td>\n",
       "      <td>4233.1500</td>\n",
       "      <td>0.08</td>\n",
       "      <td>35</td>\n",
       "      <td>1219.87</td>\n",
       "      <td>26.30</td>\n",
       "      <td>0.38</td>\n",
       "    </tr>\n",
       "    <tr>\n",
       "      <th>5</th>\n",
       "      <td>Ord_5446</td>\n",
       "      <td>Prod_6</td>\n",
       "      <td>SHP_7608</td>\n",
       "      <td>Cust_1818</td>\n",
       "      <td>164.0200</td>\n",
       "      <td>0.03</td>\n",
       "      <td>23</td>\n",
       "      <td>-47.64</td>\n",
       "      <td>6.15</td>\n",
       "      <td>0.37</td>\n",
       "    </tr>\n",
       "    <tr>\n",
       "      <th>6</th>\n",
       "      <td>Ord_31</td>\n",
       "      <td>Prod_12</td>\n",
       "      <td>SHP_41</td>\n",
       "      <td>Cust_26</td>\n",
       "      <td>14.7600</td>\n",
       "      <td>0.01</td>\n",
       "      <td>5</td>\n",
       "      <td>1.32</td>\n",
       "      <td>0.50</td>\n",
       "      <td>0.36</td>\n",
       "    </tr>\n",
       "    <tr>\n",
       "      <th>7</th>\n",
       "      <td>Ord_4725</td>\n",
       "      <td>Prod_4</td>\n",
       "      <td>SHP_6593</td>\n",
       "      <td>Cust_1641</td>\n",
       "      <td>3410.1575</td>\n",
       "      <td>0.10</td>\n",
       "      <td>48</td>\n",
       "      <td>1137.91</td>\n",
       "      <td>0.99</td>\n",
       "      <td>0.55</td>\n",
       "    </tr>\n",
       "    <tr>\n",
       "      <th>8</th>\n",
       "      <td>Ord_4725</td>\n",
       "      <td>Prod_13</td>\n",
       "      <td>SHP_6593</td>\n",
       "      <td>Cust_1641</td>\n",
       "      <td>162.0000</td>\n",
       "      <td>0.01</td>\n",
       "      <td>33</td>\n",
       "      <td>45.84</td>\n",
       "      <td>0.71</td>\n",
       "      <td>0.52</td>\n",
       "    </tr>\n",
       "    <tr>\n",
       "      <th>9</th>\n",
       "      <td>Ord_4725</td>\n",
       "      <td>Prod_6</td>\n",
       "      <td>SHP_6593</td>\n",
       "      <td>Cust_1641</td>\n",
       "      <td>57.2200</td>\n",
       "      <td>0.07</td>\n",
       "      <td>8</td>\n",
       "      <td>-27.72</td>\n",
       "      <td>6.60</td>\n",
       "      <td>0.37</td>\n",
       "    </tr>\n",
       "    <tr>\n",
       "      <th>10</th>\n",
       "      <td>Ord_4743</td>\n",
       "      <td>Prod_2</td>\n",
       "      <td>SHP_6615</td>\n",
       "      <td>Cust_1641</td>\n",
       "      <td>4072.0100</td>\n",
       "      <td>0.01</td>\n",
       "      <td>43</td>\n",
       "      <td>1675.98</td>\n",
       "      <td>0.99</td>\n",
       "      <td>0.56</td>\n",
       "    </tr>\n",
       "    <tr>\n",
       "      <th>11</th>\n",
       "      <td>Ord_1925</td>\n",
       "      <td>Prod_6</td>\n",
       "      <td>SHP_2637</td>\n",
       "      <td>Cust_708</td>\n",
       "      <td>465.9000</td>\n",
       "      <td>0.05</td>\n",
       "      <td>38</td>\n",
       "      <td>79.34</td>\n",
       "      <td>4.86</td>\n",
       "      <td>0.38</td>\n",
       "    </tr>\n",
       "    <tr>\n",
       "      <th>12</th>\n",
       "      <td>Ord_2978</td>\n",
       "      <td>Prod_16</td>\n",
       "      <td>SHP_4112</td>\n",
       "      <td>Cust_1088</td>\n",
       "      <td>305.0500</td>\n",
       "      <td>0.04</td>\n",
       "      <td>27</td>\n",
       "      <td>23.12</td>\n",
       "      <td>3.37</td>\n",
       "      <td>0.57</td>\n",
       "    </tr>\n",
       "    <tr>\n",
       "      <th>13</th>\n",
       "      <td>Ord_2207</td>\n",
       "      <td>Prod_11</td>\n",
       "      <td>SHP_3093</td>\n",
       "      <td>Cust_839</td>\n",
       "      <td>3364.2480</td>\n",
       "      <td>0.10</td>\n",
       "      <td>15</td>\n",
       "      <td>-693.23</td>\n",
       "      <td>61.76</td>\n",
       "      <td>0.78</td>\n",
       "    </tr>\n",
       "    <tr>\n",
       "      <th>14</th>\n",
       "      <td>Ord_2207</td>\n",
       "      <td>Prod_10</td>\n",
       "      <td>SHP_3006</td>\n",
       "      <td>Cust_839</td>\n",
       "      <td>1410.9300</td>\n",
       "      <td>0.08</td>\n",
       "      <td>10</td>\n",
       "      <td>-317.48</td>\n",
       "      <td>36.09</td>\n",
       "      <td>0.77</td>\n",
       "    </tr>\n",
       "    <tr>\n",
       "      <th>15</th>\n",
       "      <td>Ord_2280</td>\n",
       "      <td>Prod_5</td>\n",
       "      <td>SHP_3114</td>\n",
       "      <td>Cust_839</td>\n",
       "      <td>460.6900</td>\n",
       "      <td>0.06</td>\n",
       "      <td>48</td>\n",
       "      <td>-103.48</td>\n",
       "      <td>7.29</td>\n",
       "      <td>0.45</td>\n",
       "    </tr>\n",
       "    <tr>\n",
       "      <th>16</th>\n",
       "      <td>Ord_2282</td>\n",
       "      <td>Prod_9</td>\n",
       "      <td>SHP_3122</td>\n",
       "      <td>Cust_839</td>\n",
       "      <td>443.4600</td>\n",
       "      <td>0.06</td>\n",
       "      <td>30</td>\n",
       "      <td>193.12</td>\n",
       "      <td>1.39</td>\n",
       "      <td>0.38</td>\n",
       "    </tr>\n",
       "    <tr>\n",
       "      <th>17</th>\n",
       "      <td>Ord_4471</td>\n",
       "      <td>Prod_15</td>\n",
       "      <td>SHP_6228</td>\n",
       "      <td>Cust_1521</td>\n",
       "      <td>13255.9300</td>\n",
       "      <td>0.02</td>\n",
       "      <td>25</td>\n",
       "      <td>4089.27</td>\n",
       "      <td>26.00</td>\n",
       "      <td>0.60</td>\n",
       "    </tr>\n",
       "    <tr>\n",
       "      <th>18</th>\n",
       "      <td>Ord_4427</td>\n",
       "      <td>Prod_6</td>\n",
       "      <td>SHP_6171</td>\n",
       "      <td>Cust_1521</td>\n",
       "      <td>283.1300</td>\n",
       "      <td>0.08</td>\n",
       "      <td>45</td>\n",
       "      <td>-141.26</td>\n",
       "      <td>6.81</td>\n",
       "      <td>0.36</td>\n",
       "    </tr>\n",
       "    <tr>\n",
       "      <th>19</th>\n",
       "      <td>Ord_996</td>\n",
       "      <td>Prod_13</td>\n",
       "      <td>SHP_1378</td>\n",
       "      <td>Cust_371</td>\n",
       "      <td>41.9700</td>\n",
       "      <td>0.05</td>\n",
       "      <td>12</td>\n",
       "      <td>-37.03</td>\n",
       "      <td>4.20</td>\n",
       "      <td>0.56</td>\n",
       "    </tr>\n",
       "    <tr>\n",
       "      <th>20</th>\n",
       "      <td>Ord_996</td>\n",
       "      <td>Prod_13</td>\n",
       "      <td>SHP_1378</td>\n",
       "      <td>Cust_371</td>\n",
       "      <td>57.1700</td>\n",
       "      <td>0.08</td>\n",
       "      <td>18</td>\n",
       "      <td>-24.03</td>\n",
       "      <td>2.31</td>\n",
       "      <td>0.56</td>\n",
       "    </tr>\n",
       "    <tr>\n",
       "      <th>21</th>\n",
       "      <td>Ord_996</td>\n",
       "      <td>Prod_6</td>\n",
       "      <td>SHP_1378</td>\n",
       "      <td>Cust_371</td>\n",
       "      <td>81.2500</td>\n",
       "      <td>0.01</td>\n",
       "      <td>11</td>\n",
       "      <td>-44.54</td>\n",
       "      <td>7.86</td>\n",
       "      <td>0.37</td>\n",
       "    </tr>\n",
       "    <tr>\n",
       "      <th>22</th>\n",
       "      <td>Ord_996</td>\n",
       "      <td>Prod_5</td>\n",
       "      <td>SHP_1377</td>\n",
       "      <td>Cust_371</td>\n",
       "      <td>3202.2500</td>\n",
       "      <td>0.09</td>\n",
       "      <td>44</td>\n",
       "      <td>991.26</td>\n",
       "      <td>19.99</td>\n",
       "      <td>0.43</td>\n",
       "    </tr>\n",
       "    <tr>\n",
       "      <th>23</th>\n",
       "      <td>Ord_996</td>\n",
       "      <td>Prod_7</td>\n",
       "      <td>SHP_1378</td>\n",
       "      <td>Cust_371</td>\n",
       "      <td>35.6400</td>\n",
       "      <td>0.05</td>\n",
       "      <td>10</td>\n",
       "      <td>-0.71</td>\n",
       "      <td>1.63</td>\n",
       "      <td>0.36</td>\n",
       "    </tr>\n",
       "    <tr>\n",
       "      <th>24</th>\n",
       "      <td>Ord_2573</td>\n",
       "      <td>Prod_3</td>\n",
       "      <td>SHP_3525</td>\n",
       "      <td>Cust_931</td>\n",
       "      <td>197.6100</td>\n",
       "      <td>0.08</td>\n",
       "      <td>13</td>\n",
       "      <td>3.46</td>\n",
       "      <td>7.27</td>\n",
       "      <td>0.38</td>\n",
       "    </tr>\n",
       "    <tr>\n",
       "      <th>25</th>\n",
       "      <td>Ord_2335</td>\n",
       "      <td>Prod_13</td>\n",
       "      <td>SHP_3204</td>\n",
       "      <td>Cust_931</td>\n",
       "      <td>38.2600</td>\n",
       "      <td>0.03</td>\n",
       "      <td>22</td>\n",
       "      <td>-2.34</td>\n",
       "      <td>0.70</td>\n",
       "      <td>0.56</td>\n",
       "    </tr>\n",
       "    <tr>\n",
       "      <th>26</th>\n",
       "      <td>Ord_2456</td>\n",
       "      <td>Prod_5</td>\n",
       "      <td>SHP_3367</td>\n",
       "      <td>Cust_931</td>\n",
       "      <td>109.5800</td>\n",
       "      <td>0.00</td>\n",
       "      <td>13</td>\n",
       "      <td>31.32</td>\n",
       "      <td>4.00</td>\n",
       "      <td>0.42</td>\n",
       "    </tr>\n",
       "    <tr>\n",
       "      <th>27</th>\n",
       "      <td>Ord_2405</td>\n",
       "      <td>Prod_9</td>\n",
       "      <td>SHP_3300</td>\n",
       "      <td>Cust_931</td>\n",
       "      <td>1062.6900</td>\n",
       "      <td>0.01</td>\n",
       "      <td>28</td>\n",
       "      <td>401.80</td>\n",
       "      <td>6.66</td>\n",
       "      <td>0.40</td>\n",
       "    </tr>\n",
       "    <tr>\n",
       "      <th>28</th>\n",
       "      <td>Ord_2573</td>\n",
       "      <td>Prod_4</td>\n",
       "      <td>SHP_3527</td>\n",
       "      <td>Cust_931</td>\n",
       "      <td>3594.7435</td>\n",
       "      <td>0.05</td>\n",
       "      <td>38</td>\n",
       "      <td>1016.97</td>\n",
       "      <td>2.50</td>\n",
       "      <td>0.55</td>\n",
       "    </tr>\n",
       "    <tr>\n",
       "      <th>29</th>\n",
       "      <td>Ord_2478</td>\n",
       "      <td>Prod_12</td>\n",
       "      <td>SHP_3395</td>\n",
       "      <td>Cust_931</td>\n",
       "      <td>139.9800</td>\n",
       "      <td>0.07</td>\n",
       "      <td>33</td>\n",
       "      <td>-140.54</td>\n",
       "      <td>6.89</td>\n",
       "      <td>0.39</td>\n",
       "    </tr>\n",
       "    <tr>\n",
       "      <th>...</th>\n",
       "      <td>...</td>\n",
       "      <td>...</td>\n",
       "      <td>...</td>\n",
       "      <td>...</td>\n",
       "      <td>...</td>\n",
       "      <td>...</td>\n",
       "      <td>...</td>\n",
       "      <td>...</td>\n",
       "      <td>...</td>\n",
       "      <td>...</td>\n",
       "    </tr>\n",
       "    <tr>\n",
       "      <th>8369</th>\n",
       "      <td>Ord_3633</td>\n",
       "      <td>Prod_3</td>\n",
       "      <td>SHP_5031</td>\n",
       "      <td>Cust_1274</td>\n",
       "      <td>1169.2600</td>\n",
       "      <td>0.02</td>\n",
       "      <td>41</td>\n",
       "      <td>515.62</td>\n",
       "      <td>1.49</td>\n",
       "      <td>0.38</td>\n",
       "    </tr>\n",
       "    <tr>\n",
       "      <th>8370</th>\n",
       "      <td>Ord_2696</td>\n",
       "      <td>Prod_13</td>\n",
       "      <td>SHP_3690</td>\n",
       "      <td>Cust_1006</td>\n",
       "      <td>62.7800</td>\n",
       "      <td>0.04</td>\n",
       "      <td>20</td>\n",
       "      <td>-17.75</td>\n",
       "      <td>2.03</td>\n",
       "      <td>0.57</td>\n",
       "    </tr>\n",
       "    <tr>\n",
       "      <th>8371</th>\n",
       "      <td>Ord_2624</td>\n",
       "      <td>Prod_4</td>\n",
       "      <td>SHP_3591</td>\n",
       "      <td>Cust_1006</td>\n",
       "      <td>4924.1350</td>\n",
       "      <td>0.07</td>\n",
       "      <td>28</td>\n",
       "      <td>1049.54</td>\n",
       "      <td>8.99</td>\n",
       "      <td>0.58</td>\n",
       "    </tr>\n",
       "    <tr>\n",
       "      <th>8372</th>\n",
       "      <td>Ord_2772</td>\n",
       "      <td>Prod_9</td>\n",
       "      <td>SHP_3806</td>\n",
       "      <td>Cust_1006</td>\n",
       "      <td>56.9000</td>\n",
       "      <td>0.03</td>\n",
       "      <td>7</td>\n",
       "      <td>12.64</td>\n",
       "      <td>1.39</td>\n",
       "      <td>0.36</td>\n",
       "    </tr>\n",
       "    <tr>\n",
       "      <th>8373</th>\n",
       "      <td>Ord_2600</td>\n",
       "      <td>Prod_16</td>\n",
       "      <td>SHP_3560</td>\n",
       "      <td>Cust_1006</td>\n",
       "      <td>106.6400</td>\n",
       "      <td>0.10</td>\n",
       "      <td>30</td>\n",
       "      <td>-31.95</td>\n",
       "      <td>1.32</td>\n",
       "      <td>0.83</td>\n",
       "    </tr>\n",
       "    <tr>\n",
       "      <th>8374</th>\n",
       "      <td>Ord_2658</td>\n",
       "      <td>Prod_5</td>\n",
       "      <td>SHP_3637</td>\n",
       "      <td>Cust_1006</td>\n",
       "      <td>1082.6600</td>\n",
       "      <td>0.08</td>\n",
       "      <td>14</td>\n",
       "      <td>-256.93</td>\n",
       "      <td>48.20</td>\n",
       "      <td>0.74</td>\n",
       "    </tr>\n",
       "    <tr>\n",
       "      <th>8375</th>\n",
       "      <td>Ord_2772</td>\n",
       "      <td>Prod_3</td>\n",
       "      <td>SHP_3806</td>\n",
       "      <td>Cust_1006</td>\n",
       "      <td>1413.8200</td>\n",
       "      <td>0.10</td>\n",
       "      <td>47</td>\n",
       "      <td>226.53</td>\n",
       "      <td>11.63</td>\n",
       "      <td>0.37</td>\n",
       "    </tr>\n",
       "    <tr>\n",
       "      <th>8376</th>\n",
       "      <td>Ord_2624</td>\n",
       "      <td>Prod_8</td>\n",
       "      <td>SHP_3590</td>\n",
       "      <td>Cust_1006</td>\n",
       "      <td>1211.0000</td>\n",
       "      <td>0.00</td>\n",
       "      <td>36</td>\n",
       "      <td>-27.99</td>\n",
       "      <td>6.50</td>\n",
       "      <td>0.79</td>\n",
       "    </tr>\n",
       "    <tr>\n",
       "      <th>8377</th>\n",
       "      <td>Ord_2722</td>\n",
       "      <td>Prod_12</td>\n",
       "      <td>SHP_3729</td>\n",
       "      <td>Cust_1006</td>\n",
       "      <td>34.0100</td>\n",
       "      <td>0.00</td>\n",
       "      <td>12</td>\n",
       "      <td>10.58</td>\n",
       "      <td>0.50</td>\n",
       "      <td>0.39</td>\n",
       "    </tr>\n",
       "    <tr>\n",
       "      <th>8378</th>\n",
       "      <td>Ord_2706</td>\n",
       "      <td>Prod_2</td>\n",
       "      <td>SHP_3705</td>\n",
       "      <td>Cust_1006</td>\n",
       "      <td>1361.9100</td>\n",
       "      <td>0.05</td>\n",
       "      <td>20</td>\n",
       "      <td>312.52</td>\n",
       "      <td>3.50</td>\n",
       "      <td>0.59</td>\n",
       "    </tr>\n",
       "    <tr>\n",
       "      <th>8379</th>\n",
       "      <td>Ord_2722</td>\n",
       "      <td>Prod_5</td>\n",
       "      <td>SHP_3730</td>\n",
       "      <td>Cust_1006</td>\n",
       "      <td>1008.9500</td>\n",
       "      <td>0.04</td>\n",
       "      <td>41</td>\n",
       "      <td>69.31</td>\n",
       "      <td>8.99</td>\n",
       "      <td>0.50</td>\n",
       "    </tr>\n",
       "    <tr>\n",
       "      <th>8380</th>\n",
       "      <td>Ord_2772</td>\n",
       "      <td>Prod_6</td>\n",
       "      <td>SHP_3807</td>\n",
       "      <td>Cust_1006</td>\n",
       "      <td>308.9200</td>\n",
       "      <td>0.04</td>\n",
       "      <td>45</td>\n",
       "      <td>-143.58</td>\n",
       "      <td>7.37</td>\n",
       "      <td>0.37</td>\n",
       "    </tr>\n",
       "    <tr>\n",
       "      <th>8381</th>\n",
       "      <td>Ord_2696</td>\n",
       "      <td>Prod_4</td>\n",
       "      <td>SHP_3691</td>\n",
       "      <td>Cust_1006</td>\n",
       "      <td>2836.0505</td>\n",
       "      <td>0.01</td>\n",
       "      <td>25</td>\n",
       "      <td>561.13</td>\n",
       "      <td>8.99</td>\n",
       "      <td>0.59</td>\n",
       "    </tr>\n",
       "    <tr>\n",
       "      <th>8382</th>\n",
       "      <td>Ord_2658</td>\n",
       "      <td>Prod_3</td>\n",
       "      <td>SHP_3636</td>\n",
       "      <td>Cust_1006</td>\n",
       "      <td>120.9800</td>\n",
       "      <td>0.00</td>\n",
       "      <td>28</td>\n",
       "      <td>-92.85</td>\n",
       "      <td>5.34</td>\n",
       "      <td>0.38</td>\n",
       "    </tr>\n",
       "    <tr>\n",
       "      <th>8383</th>\n",
       "      <td>Ord_2722</td>\n",
       "      <td>Prod_1</td>\n",
       "      <td>SHP_3731</td>\n",
       "      <td>Cust_1006</td>\n",
       "      <td>3508.3300</td>\n",
       "      <td>0.04</td>\n",
       "      <td>21</td>\n",
       "      <td>-546.98</td>\n",
       "      <td>35.00</td>\n",
       "      <td>0.85</td>\n",
       "    </tr>\n",
       "    <tr>\n",
       "      <th>8384</th>\n",
       "      <td>Ord_4620</td>\n",
       "      <td>Prod_3</td>\n",
       "      <td>SHP_6435</td>\n",
       "      <td>Cust_1577</td>\n",
       "      <td>59.6200</td>\n",
       "      <td>0.04</td>\n",
       "      <td>10</td>\n",
       "      <td>-56.30</td>\n",
       "      <td>7.78</td>\n",
       "      <td>0.37</td>\n",
       "    </tr>\n",
       "    <tr>\n",
       "      <th>8385</th>\n",
       "      <td>Ord_1833</td>\n",
       "      <td>Prod_3</td>\n",
       "      <td>SHP_2527</td>\n",
       "      <td>Cust_637</td>\n",
       "      <td>611.1600</td>\n",
       "      <td>0.04</td>\n",
       "      <td>46</td>\n",
       "      <td>100.22</td>\n",
       "      <td>4.98</td>\n",
       "      <td>0.40</td>\n",
       "    </tr>\n",
       "    <tr>\n",
       "      <th>8386</th>\n",
       "      <td>Ord_2324</td>\n",
       "      <td>Prod_7</td>\n",
       "      <td>SHP_3189</td>\n",
       "      <td>Cust_851</td>\n",
       "      <td>121.8700</td>\n",
       "      <td>0.07</td>\n",
       "      <td>39</td>\n",
       "      <td>11.32</td>\n",
       "      <td>1.35</td>\n",
       "      <td>0.40</td>\n",
       "    </tr>\n",
       "    <tr>\n",
       "      <th>8387</th>\n",
       "      <td>Ord_2220</td>\n",
       "      <td>Prod_3</td>\n",
       "      <td>SHP_3019</td>\n",
       "      <td>Cust_851</td>\n",
       "      <td>41.0600</td>\n",
       "      <td>0.04</td>\n",
       "      <td>4</td>\n",
       "      <td>-16.39</td>\n",
       "      <td>6.28</td>\n",
       "      <td>0.35</td>\n",
       "    </tr>\n",
       "    <tr>\n",
       "      <th>8388</th>\n",
       "      <td>Ord_4424</td>\n",
       "      <td>Prod_1</td>\n",
       "      <td>SHP_6165</td>\n",
       "      <td>Cust_1519</td>\n",
       "      <td>994.0400</td>\n",
       "      <td>0.03</td>\n",
       "      <td>10</td>\n",
       "      <td>-335.06</td>\n",
       "      <td>35.00</td>\n",
       "      <td>NaN</td>\n",
       "    </tr>\n",
       "    <tr>\n",
       "      <th>8389</th>\n",
       "      <td>Ord_4444</td>\n",
       "      <td>Prod_13</td>\n",
       "      <td>SHP_6192</td>\n",
       "      <td>Cust_1519</td>\n",
       "      <td>159.4100</td>\n",
       "      <td>0.00</td>\n",
       "      <td>44</td>\n",
       "      <td>34.68</td>\n",
       "      <td>0.98</td>\n",
       "      <td>0.52</td>\n",
       "    </tr>\n",
       "    <tr>\n",
       "      <th>8390</th>\n",
       "      <td>Ord_5435</td>\n",
       "      <td>Prod_16</td>\n",
       "      <td>SHP_7594</td>\n",
       "      <td>Cust_1798</td>\n",
       "      <td>316.9900</td>\n",
       "      <td>0.04</td>\n",
       "      <td>47</td>\n",
       "      <td>-276.54</td>\n",
       "      <td>8.37</td>\n",
       "      <td>0.58</td>\n",
       "    </tr>\n",
       "    <tr>\n",
       "      <th>8391</th>\n",
       "      <td>Ord_5435</td>\n",
       "      <td>Prod_4</td>\n",
       "      <td>SHP_7594</td>\n",
       "      <td>Cust_1798</td>\n",
       "      <td>1991.8985</td>\n",
       "      <td>0.07</td>\n",
       "      <td>20</td>\n",
       "      <td>88.36</td>\n",
       "      <td>7.69</td>\n",
       "      <td>0.58</td>\n",
       "    </tr>\n",
       "    <tr>\n",
       "      <th>8392</th>\n",
       "      <td>Ord_5384</td>\n",
       "      <td>Prod_9</td>\n",
       "      <td>SHP_7519</td>\n",
       "      <td>Cust_1798</td>\n",
       "      <td>181.5000</td>\n",
       "      <td>0.08</td>\n",
       "      <td>43</td>\n",
       "      <td>-6.24</td>\n",
       "      <td>2.50</td>\n",
       "      <td>0.37</td>\n",
       "    </tr>\n",
       "    <tr>\n",
       "      <th>8393</th>\n",
       "      <td>Ord_5348</td>\n",
       "      <td>Prod_8</td>\n",
       "      <td>SHP_7470</td>\n",
       "      <td>Cust_1798</td>\n",
       "      <td>356.7200</td>\n",
       "      <td>0.07</td>\n",
       "      <td>9</td>\n",
       "      <td>12.61</td>\n",
       "      <td>1.99</td>\n",
       "      <td>0.44</td>\n",
       "    </tr>\n",
       "    <tr>\n",
       "      <th>8394</th>\n",
       "      <td>Ord_5353</td>\n",
       "      <td>Prod_4</td>\n",
       "      <td>SHP_7479</td>\n",
       "      <td>Cust_1798</td>\n",
       "      <td>2841.4395</td>\n",
       "      <td>0.08</td>\n",
       "      <td>28</td>\n",
       "      <td>374.63</td>\n",
       "      <td>7.69</td>\n",
       "      <td>0.59</td>\n",
       "    </tr>\n",
       "    <tr>\n",
       "      <th>8395</th>\n",
       "      <td>Ord_5411</td>\n",
       "      <td>Prod_6</td>\n",
       "      <td>SHP_7555</td>\n",
       "      <td>Cust_1798</td>\n",
       "      <td>127.1600</td>\n",
       "      <td>0.10</td>\n",
       "      <td>20</td>\n",
       "      <td>-74.03</td>\n",
       "      <td>6.92</td>\n",
       "      <td>0.37</td>\n",
       "    </tr>\n",
       "    <tr>\n",
       "      <th>8396</th>\n",
       "      <td>Ord_5388</td>\n",
       "      <td>Prod_6</td>\n",
       "      <td>SHP_7524</td>\n",
       "      <td>Cust_1798</td>\n",
       "      <td>243.0500</td>\n",
       "      <td>0.02</td>\n",
       "      <td>39</td>\n",
       "      <td>-70.85</td>\n",
       "      <td>5.35</td>\n",
       "      <td>0.40</td>\n",
       "    </tr>\n",
       "    <tr>\n",
       "      <th>8397</th>\n",
       "      <td>Ord_5348</td>\n",
       "      <td>Prod_15</td>\n",
       "      <td>SHP_7469</td>\n",
       "      <td>Cust_1798</td>\n",
       "      <td>3872.8700</td>\n",
       "      <td>0.03</td>\n",
       "      <td>23</td>\n",
       "      <td>565.34</td>\n",
       "      <td>30.00</td>\n",
       "      <td>0.62</td>\n",
       "    </tr>\n",
       "    <tr>\n",
       "      <th>8398</th>\n",
       "      <td>Ord_5459</td>\n",
       "      <td>Prod_6</td>\n",
       "      <td>SHP_7628</td>\n",
       "      <td>Cust_1798</td>\n",
       "      <td>603.6900</td>\n",
       "      <td>0.00</td>\n",
       "      <td>47</td>\n",
       "      <td>131.39</td>\n",
       "      <td>4.86</td>\n",
       "      <td>0.38</td>\n",
       "    </tr>\n",
       "  </tbody>\n",
       "</table>\n",
       "<p>8399 rows × 10 columns</p>\n",
       "</div>"
      ],
      "text/plain": [
       "        Ord_id  Prod_id   Ship_id    Cust_id       Sales  Discount  \\\n",
       "0     Ord_5446  Prod_16  SHP_7609  Cust_1818    136.8100      0.01   \n",
       "1     Ord_5406  Prod_13  SHP_7549  Cust_1818     42.2700      0.01   \n",
       "2     Ord_5446   Prod_4  SHP_7610  Cust_1818   4701.6900      0.00   \n",
       "3     Ord_5456   Prod_6  SHP_7625  Cust_1818   2337.8900      0.09   \n",
       "4     Ord_5485  Prod_17  SHP_7664  Cust_1818   4233.1500      0.08   \n",
       "5     Ord_5446   Prod_6  SHP_7608  Cust_1818    164.0200      0.03   \n",
       "6       Ord_31  Prod_12    SHP_41    Cust_26     14.7600      0.01   \n",
       "7     Ord_4725   Prod_4  SHP_6593  Cust_1641   3410.1575      0.10   \n",
       "8     Ord_4725  Prod_13  SHP_6593  Cust_1641    162.0000      0.01   \n",
       "9     Ord_4725   Prod_6  SHP_6593  Cust_1641     57.2200      0.07   \n",
       "10    Ord_4743   Prod_2  SHP_6615  Cust_1641   4072.0100      0.01   \n",
       "11    Ord_1925   Prod_6  SHP_2637   Cust_708    465.9000      0.05   \n",
       "12    Ord_2978  Prod_16  SHP_4112  Cust_1088    305.0500      0.04   \n",
       "13    Ord_2207  Prod_11  SHP_3093   Cust_839   3364.2480      0.10   \n",
       "14    Ord_2207  Prod_10  SHP_3006   Cust_839   1410.9300      0.08   \n",
       "15    Ord_2280   Prod_5  SHP_3114   Cust_839    460.6900      0.06   \n",
       "16    Ord_2282   Prod_9  SHP_3122   Cust_839    443.4600      0.06   \n",
       "17    Ord_4471  Prod_15  SHP_6228  Cust_1521  13255.9300      0.02   \n",
       "18    Ord_4427   Prod_6  SHP_6171  Cust_1521    283.1300      0.08   \n",
       "19     Ord_996  Prod_13  SHP_1378   Cust_371     41.9700      0.05   \n",
       "20     Ord_996  Prod_13  SHP_1378   Cust_371     57.1700      0.08   \n",
       "21     Ord_996   Prod_6  SHP_1378   Cust_371     81.2500      0.01   \n",
       "22     Ord_996   Prod_5  SHP_1377   Cust_371   3202.2500      0.09   \n",
       "23     Ord_996   Prod_7  SHP_1378   Cust_371     35.6400      0.05   \n",
       "24    Ord_2573   Prod_3  SHP_3525   Cust_931    197.6100      0.08   \n",
       "25    Ord_2335  Prod_13  SHP_3204   Cust_931     38.2600      0.03   \n",
       "26    Ord_2456   Prod_5  SHP_3367   Cust_931    109.5800      0.00   \n",
       "27    Ord_2405   Prod_9  SHP_3300   Cust_931   1062.6900      0.01   \n",
       "28    Ord_2573   Prod_4  SHP_3527   Cust_931   3594.7435      0.05   \n",
       "29    Ord_2478  Prod_12  SHP_3395   Cust_931    139.9800      0.07   \n",
       "...        ...      ...       ...        ...         ...       ...   \n",
       "8369  Ord_3633   Prod_3  SHP_5031  Cust_1274   1169.2600      0.02   \n",
       "8370  Ord_2696  Prod_13  SHP_3690  Cust_1006     62.7800      0.04   \n",
       "8371  Ord_2624   Prod_4  SHP_3591  Cust_1006   4924.1350      0.07   \n",
       "8372  Ord_2772   Prod_9  SHP_3806  Cust_1006     56.9000      0.03   \n",
       "8373  Ord_2600  Prod_16  SHP_3560  Cust_1006    106.6400      0.10   \n",
       "8374  Ord_2658   Prod_5  SHP_3637  Cust_1006   1082.6600      0.08   \n",
       "8375  Ord_2772   Prod_3  SHP_3806  Cust_1006   1413.8200      0.10   \n",
       "8376  Ord_2624   Prod_8  SHP_3590  Cust_1006   1211.0000      0.00   \n",
       "8377  Ord_2722  Prod_12  SHP_3729  Cust_1006     34.0100      0.00   \n",
       "8378  Ord_2706   Prod_2  SHP_3705  Cust_1006   1361.9100      0.05   \n",
       "8379  Ord_2722   Prod_5  SHP_3730  Cust_1006   1008.9500      0.04   \n",
       "8380  Ord_2772   Prod_6  SHP_3807  Cust_1006    308.9200      0.04   \n",
       "8381  Ord_2696   Prod_4  SHP_3691  Cust_1006   2836.0505      0.01   \n",
       "8382  Ord_2658   Prod_3  SHP_3636  Cust_1006    120.9800      0.00   \n",
       "8383  Ord_2722   Prod_1  SHP_3731  Cust_1006   3508.3300      0.04   \n",
       "8384  Ord_4620   Prod_3  SHP_6435  Cust_1577     59.6200      0.04   \n",
       "8385  Ord_1833   Prod_3  SHP_2527   Cust_637    611.1600      0.04   \n",
       "8386  Ord_2324   Prod_7  SHP_3189   Cust_851    121.8700      0.07   \n",
       "8387  Ord_2220   Prod_3  SHP_3019   Cust_851     41.0600      0.04   \n",
       "8388  Ord_4424   Prod_1  SHP_6165  Cust_1519    994.0400      0.03   \n",
       "8389  Ord_4444  Prod_13  SHP_6192  Cust_1519    159.4100      0.00   \n",
       "8390  Ord_5435  Prod_16  SHP_7594  Cust_1798    316.9900      0.04   \n",
       "8391  Ord_5435   Prod_4  SHP_7594  Cust_1798   1991.8985      0.07   \n",
       "8392  Ord_5384   Prod_9  SHP_7519  Cust_1798    181.5000      0.08   \n",
       "8393  Ord_5348   Prod_8  SHP_7470  Cust_1798    356.7200      0.07   \n",
       "8394  Ord_5353   Prod_4  SHP_7479  Cust_1798   2841.4395      0.08   \n",
       "8395  Ord_5411   Prod_6  SHP_7555  Cust_1798    127.1600      0.10   \n",
       "8396  Ord_5388   Prod_6  SHP_7524  Cust_1798    243.0500      0.02   \n",
       "8397  Ord_5348  Prod_15  SHP_7469  Cust_1798   3872.8700      0.03   \n",
       "8398  Ord_5459   Prod_6  SHP_7628  Cust_1798    603.6900      0.00   \n",
       "\n",
       "      Order_Quantity   Profit  Shipping_Cost  Product_Base_Margin  \n",
       "0                 23   -30.51           3.60                 0.56  \n",
       "1                 13     4.56           0.93                 0.54  \n",
       "2                 26  1148.90           2.50                 0.59  \n",
       "3                 43   729.34          14.30                 0.37  \n",
       "4                 35  1219.87          26.30                 0.38  \n",
       "5                 23   -47.64           6.15                 0.37  \n",
       "6                  5     1.32           0.50                 0.36  \n",
       "7                 48  1137.91           0.99                 0.55  \n",
       "8                 33    45.84           0.71                 0.52  \n",
       "9                  8   -27.72           6.60                 0.37  \n",
       "10                43  1675.98           0.99                 0.56  \n",
       "11                38    79.34           4.86                 0.38  \n",
       "12                27    23.12           3.37                 0.57  \n",
       "13                15  -693.23          61.76                 0.78  \n",
       "14                10  -317.48          36.09                 0.77  \n",
       "15                48  -103.48           7.29                 0.45  \n",
       "16                30   193.12           1.39                 0.38  \n",
       "17                25  4089.27          26.00                 0.60  \n",
       "18                45  -141.26           6.81                 0.36  \n",
       "19                12   -37.03           4.20                 0.56  \n",
       "20                18   -24.03           2.31                 0.56  \n",
       "21                11   -44.54           7.86                 0.37  \n",
       "22                44   991.26          19.99                 0.43  \n",
       "23                10    -0.71           1.63                 0.36  \n",
       "24                13     3.46           7.27                 0.38  \n",
       "25                22    -2.34           0.70                 0.56  \n",
       "26                13    31.32           4.00                 0.42  \n",
       "27                28   401.80           6.66                 0.40  \n",
       "28                38  1016.97           2.50                 0.55  \n",
       "29                33  -140.54           6.89                 0.39  \n",
       "...              ...      ...            ...                  ...  \n",
       "8369              41   515.62           1.49                 0.38  \n",
       "8370              20   -17.75           2.03                 0.57  \n",
       "8371              28  1049.54           8.99                 0.58  \n",
       "8372               7    12.64           1.39                 0.36  \n",
       "8373              30   -31.95           1.32                 0.83  \n",
       "8374              14  -256.93          48.20                 0.74  \n",
       "8375              47   226.53          11.63                 0.37  \n",
       "8376              36   -27.99           6.50                 0.79  \n",
       "8377              12    10.58           0.50                 0.39  \n",
       "8378              20   312.52           3.50                 0.59  \n",
       "8379              41    69.31           8.99                 0.50  \n",
       "8380              45  -143.58           7.37                 0.37  \n",
       "8381              25   561.13           8.99                 0.59  \n",
       "8382              28   -92.85           5.34                 0.38  \n",
       "8383              21  -546.98          35.00                 0.85  \n",
       "8384              10   -56.30           7.78                 0.37  \n",
       "8385              46   100.22           4.98                 0.40  \n",
       "8386              39    11.32           1.35                 0.40  \n",
       "8387               4   -16.39           6.28                 0.35  \n",
       "8388              10  -335.06          35.00                  NaN  \n",
       "8389              44    34.68           0.98                 0.52  \n",
       "8390              47  -276.54           8.37                 0.58  \n",
       "8391              20    88.36           7.69                 0.58  \n",
       "8392              43    -6.24           2.50                 0.37  \n",
       "8393               9    12.61           1.99                 0.44  \n",
       "8394              28   374.63           7.69                 0.59  \n",
       "8395              20   -74.03           6.92                 0.37  \n",
       "8396              39   -70.85           5.35                 0.40  \n",
       "8397              23   565.34          30.00                 0.62  \n",
       "8398              47   131.39           4.86                 0.38  \n",
       "\n",
       "[8399 rows x 10 columns]"
      ]
     },
     "execution_count": 6,
     "metadata": {},
     "output_type": "execute_result"
    }
   ],
   "source": [
    "import pandas as pd\n",
    "market_df=pd.read_csv(\"market_fact.csv\")\n",
    "cust_df=pd.read_csv(\"cust_dimen.csv\")\n",
    "order_df=pd.read_csv(\"orders_dimen.csv\")\n",
    "product_df=pd.read_csv(\"prod_dimen.csv\")\n",
    "market_df"
   ]
  },
  {
   "cell_type": "code",
   "execution_count": 18,
   "metadata": {},
   "outputs": [
    {
     "data": {
      "text/plain": [
       "float64    5\n",
       "object     4\n",
       "int64      1\n",
       "dtype: int64"
      ]
     },
     "execution_count": 18,
     "metadata": {},
     "output_type": "execute_result"
    }
   ],
   "source": [
    "market_df.dtypes.value_counts()"
   ]
  },
  {
   "cell_type": "code",
   "execution_count": 35,
   "metadata": {},
   "outputs": [
    {
     "data": {
      "text/plain": [
       "'Sales'"
      ]
     },
     "execution_count": 35,
     "metadata": {},
     "output_type": "execute_result"
    }
   ],
   "source": [
    "num_=market_df.columns[market_df.dtypes!=object]\n",
    "num_float[0]"
   ]
  },
  {
   "cell_type": "code",
   "execution_count": 36,
   "metadata": {},
   "outputs": [
    {
     "ename": "ValueError",
     "evalue": "color kwarg must have one color per data set. 1 data sets and 5 colors were provided",
     "output_type": "error",
     "traceback": [
      "\u001b[1;31m---------------------------------------------------------------------------\u001b[0m",
      "\u001b[1;31mValueError\u001b[0m                                Traceback (most recent call last)",
      "\u001b[1;32m<ipython-input-36-09e80b572553>\u001b[0m in \u001b[0;36m<module>\u001b[1;34m\u001b[0m\n\u001b[0;32m      1\u001b[0m \u001b[1;32mfor\u001b[0m \u001b[0mi\u001b[0m \u001b[1;32min\u001b[0m \u001b[0mrange\u001b[0m\u001b[1;33m(\u001b[0m\u001b[0mlen\u001b[0m\u001b[1;33m(\u001b[0m\u001b[0mnum_float\u001b[0m\u001b[1;33m)\u001b[0m\u001b[1;33m)\u001b[0m\u001b[1;33m:\u001b[0m\u001b[1;33m\u001b[0m\u001b[1;33m\u001b[0m\u001b[0m\n\u001b[0;32m      2\u001b[0m     \u001b[0mplt\u001b[0m\u001b[1;33m.\u001b[0m\u001b[0mfigure\u001b[0m\u001b[1;33m(\u001b[0m\u001b[1;33m)\u001b[0m\u001b[1;33m\u001b[0m\u001b[1;33m\u001b[0m\u001b[0m\n\u001b[1;32m----> 3\u001b[1;33m     \u001b[0mplt\u001b[0m\u001b[1;33m.\u001b[0m\u001b[0mhist\u001b[0m\u001b[1;33m(\u001b[0m\u001b[0mmarket_df\u001b[0m\u001b[1;33m[\u001b[0m\u001b[0mnum_float\u001b[0m\u001b[1;33m[\u001b[0m\u001b[0mi\u001b[0m\u001b[1;33m]\u001b[0m\u001b[1;33m]\u001b[0m\u001b[1;33m,\u001b[0m\u001b[0mcolor\u001b[0m\u001b[1;33m=\u001b[0m\u001b[1;33m[\u001b[0m\u001b[1;34m'#884ea0'\u001b[0m\u001b[1;33m,\u001b[0m\u001b[1;34m'#f7dc6f'\u001b[0m\u001b[1;33m,\u001b[0m\u001b[1;34m'#28b463'\u001b[0m\u001b[1;33m,\u001b[0m\u001b[1;34m'#eb984e'\u001b[0m\u001b[1;33m,\u001b[0m\u001b[1;34m'#d4ac0d'\u001b[0m\u001b[1;33m]\u001b[0m\u001b[1;33m)\u001b[0m\u001b[1;33m\u001b[0m\u001b[1;33m\u001b[0m\u001b[0m\n\u001b[0m\u001b[0;32m      4\u001b[0m     \u001b[0mplt\u001b[0m\u001b[1;33m.\u001b[0m\u001b[0mtitle\u001b[0m\u001b[1;33m(\u001b[0m\u001b[0mnum_float\u001b[0m\u001b[1;33m[\u001b[0m\u001b[0mi\u001b[0m\u001b[1;33m]\u001b[0m\u001b[1;33m)\u001b[0m\u001b[1;33m\u001b[0m\u001b[1;33m\u001b[0m\u001b[0m\n",
      "\u001b[1;32mC:\\ProgramData\\Anaconda3\\lib\\site-packages\\matplotlib\\pyplot.py\u001b[0m in \u001b[0;36mhist\u001b[1;34m(x, bins, range, density, weights, cumulative, bottom, histtype, align, orientation, rwidth, log, color, label, stacked, normed, data, **kwargs)\u001b[0m\n\u001b[0;32m   2657\u001b[0m         \u001b[0malign\u001b[0m\u001b[1;33m=\u001b[0m\u001b[0malign\u001b[0m\u001b[1;33m,\u001b[0m \u001b[0morientation\u001b[0m\u001b[1;33m=\u001b[0m\u001b[0morientation\u001b[0m\u001b[1;33m,\u001b[0m \u001b[0mrwidth\u001b[0m\u001b[1;33m=\u001b[0m\u001b[0mrwidth\u001b[0m\u001b[1;33m,\u001b[0m \u001b[0mlog\u001b[0m\u001b[1;33m=\u001b[0m\u001b[0mlog\u001b[0m\u001b[1;33m,\u001b[0m\u001b[1;33m\u001b[0m\u001b[1;33m\u001b[0m\u001b[0m\n\u001b[0;32m   2658\u001b[0m         \u001b[0mcolor\u001b[0m\u001b[1;33m=\u001b[0m\u001b[0mcolor\u001b[0m\u001b[1;33m,\u001b[0m \u001b[0mlabel\u001b[0m\u001b[1;33m=\u001b[0m\u001b[0mlabel\u001b[0m\u001b[1;33m,\u001b[0m \u001b[0mstacked\u001b[0m\u001b[1;33m=\u001b[0m\u001b[0mstacked\u001b[0m\u001b[1;33m,\u001b[0m \u001b[0mnormed\u001b[0m\u001b[1;33m=\u001b[0m\u001b[0mnormed\u001b[0m\u001b[1;33m,\u001b[0m\u001b[1;33m\u001b[0m\u001b[1;33m\u001b[0m\u001b[0m\n\u001b[1;32m-> 2659\u001b[1;33m         **({\"data\": data} if data is not None else {}), **kwargs)\n\u001b[0m\u001b[0;32m   2660\u001b[0m \u001b[1;33m\u001b[0m\u001b[0m\n\u001b[0;32m   2661\u001b[0m \u001b[1;33m\u001b[0m\u001b[0m\n",
      "\u001b[1;32mC:\\ProgramData\\Anaconda3\\lib\\site-packages\\matplotlib\\__init__.py\u001b[0m in \u001b[0;36minner\u001b[1;34m(ax, data, *args, **kwargs)\u001b[0m\n\u001b[0;32m   1808\u001b[0m                         \u001b[1;34m\"the Matplotlib list!)\"\u001b[0m \u001b[1;33m%\u001b[0m \u001b[1;33m(\u001b[0m\u001b[0mlabel_namer\u001b[0m\u001b[1;33m,\u001b[0m \u001b[0mfunc\u001b[0m\u001b[1;33m.\u001b[0m\u001b[0m__name__\u001b[0m\u001b[1;33m)\u001b[0m\u001b[1;33m,\u001b[0m\u001b[1;33m\u001b[0m\u001b[1;33m\u001b[0m\u001b[0m\n\u001b[0;32m   1809\u001b[0m                         RuntimeWarning, stacklevel=2)\n\u001b[1;32m-> 1810\u001b[1;33m             \u001b[1;32mreturn\u001b[0m \u001b[0mfunc\u001b[0m\u001b[1;33m(\u001b[0m\u001b[0max\u001b[0m\u001b[1;33m,\u001b[0m \u001b[1;33m*\u001b[0m\u001b[0margs\u001b[0m\u001b[1;33m,\u001b[0m \u001b[1;33m**\u001b[0m\u001b[0mkwargs\u001b[0m\u001b[1;33m)\u001b[0m\u001b[1;33m\u001b[0m\u001b[1;33m\u001b[0m\u001b[0m\n\u001b[0m\u001b[0;32m   1811\u001b[0m \u001b[1;33m\u001b[0m\u001b[0m\n\u001b[0;32m   1812\u001b[0m         inner.__doc__ = _add_data_doc(inner.__doc__,\n",
      "\u001b[1;32mC:\\ProgramData\\Anaconda3\\lib\\site-packages\\matplotlib\\axes\\_axes.py\u001b[0m in \u001b[0;36mhist\u001b[1;34m(self, x, bins, range, density, weights, cumulative, bottom, histtype, align, orientation, rwidth, log, color, label, stacked, normed, **kwargs)\u001b[0m\n\u001b[0;32m   6563\u001b[0m                     \u001b[1;34m\"color kwarg must have one color per data set. %d data \"\u001b[0m\u001b[1;33m\u001b[0m\u001b[1;33m\u001b[0m\u001b[0m\n\u001b[0;32m   6564\u001b[0m                     \"sets and %d colors were provided\" % (nx, len(color)))\n\u001b[1;32m-> 6565\u001b[1;33m                 \u001b[1;32mraise\u001b[0m \u001b[0mValueError\u001b[0m\u001b[1;33m(\u001b[0m\u001b[0merror_message\u001b[0m\u001b[1;33m)\u001b[0m\u001b[1;33m\u001b[0m\u001b[1;33m\u001b[0m\u001b[0m\n\u001b[0m\u001b[0;32m   6566\u001b[0m \u001b[1;33m\u001b[0m\u001b[0m\n\u001b[0;32m   6567\u001b[0m         \u001b[1;31m# If bins are not specified either explicitly or via range,\u001b[0m\u001b[1;33m\u001b[0m\u001b[1;33m\u001b[0m\u001b[1;33m\u001b[0m\u001b[0m\n",
      "\u001b[1;31mValueError\u001b[0m: color kwarg must have one color per data set. 1 data sets and 5 colors were provided"
     ]
    },
    {
     "data": {
      "image/png": "[encoded data removed]",
      "text/plain": [
       "<Figure size 432x288 with 1 Axes>"
      ]
     },
     "metadata": {
      "needs_background": "light"
     },
     "output_type": "display_data"
    }
   ],
   "source": [
    "for i in range(len(num_float)):\n",
    "    plt.figure()\n",
    "    plt.hist(market_df[num_float[i]])\n",
    "    plt.title(num_float[i])"
   ]
  },
  {
   "cell_type": "code",
   "execution_count": null,
   "metadata": {},
   "outputs": [],
   "source": []
  }
 ],
 "metadata": {
  "kernelspec": {
   "display_name": "Python 3",
   "language": "python",
   "name": "python3"
  },
  "language_info": {
   "codemirror_mode": {
    "name": "ipython",
    "version": 3
   },
   "file_extension": ".py",
   "mimetype": "text/x-python",
   "name": "python",
   "nbconvert_exporter": "python",
   "pygments_lexer": "ipython3",
   "version": "3.7.3"
  }
 },
 "nbformat": 4,
 "nbformat_minor": 2
}
