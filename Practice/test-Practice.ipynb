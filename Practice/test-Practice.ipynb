{
 "cells": [
  {
   "cell_type": "code",
   "execution_count": 5,
   "metadata": {},
   "outputs": [
    {
     "data": {
      "text/plain": [
       "[[2, 9], [3, 7], [3, 8], [4, 8], [6, 5], [9, 2]]"
      ]
     },
     "execution_count": 5,
     "metadata": {},
     "output_type": "execute_result"
    }
   ],
   "source": [
    "li=[[3,7],[4,8],[2,9],[3,8],[6,5],[9,2]]\n",
    "li=sorted(li)\n",
    "li\n",
    "\n"
   ]
  },
  {
   "cell_type": "code",
   "execution_count": null,
   "metadata": {},
   "outputs": [],
   "source": [
    "s=input()\n",
    "l=list(map(int,input().split()))\n",
    "j=l[0]\n",
    "k=l[1]\n",
    "print(s[:j-1]+s[j-1:k][::-1]+s[k:])"
   ]
  },
  {
   "cell_type": "code",
   "execution_count": 3,
   "metadata": {},
   "outputs": [
    {
     "name": "stdout",
     "output_type": "stream",
     "text": [
      "ABCDCDC\n",
      "CDC\n",
      "CDC\n",
      "2\n"
     ]
    }
   ],
   "source": [
    "s=input()\n",
    "f=input()\n",
    "print(f[:])\n",
    "sum=0\n",
    "i=0\n",
    "while(i<len(s)):\n",
    "    if(f==s[i:i+len(f)]):\n",
    "        sum+=1\n",
    "    i+=1\n",
    "print(sum)\n",
    "            "
   ]
  },
  {
   "cell_type": "code",
   "execution_count": 6,
   "metadata": {},
   "outputs": [
    {
     "name": "stdout",
     "output_type": "stream",
     "text": [
      "AABCAAADA\n",
      "3\n",
      "['AAB', 'B', '', '', '']\n"
     ]
    }
   ],
   "source": [
    "s=input()\n",
    "li=[]\n",
    "n=int(input())\n",
    "r=len(s)//n\n",
    "i=0\n",
    "while(i<len(s)):\n",
    "    li.append(s[i:r])\n",
    "    i=i+(r-1)\n",
    "print(li)\n",
    "    "
   ]
  },
  {
   "cell_type": "code",
   "execution_count": null,
   "metadata": {},
   "outputs": [],
   "source": []
  }
 ],
 "metadata": {
  "kernelspec": {
   "display_name": "Python 3",
   "language": "python",
   "name": "python3"
  },
  "language_info": {
   "codemirror_mode": {
    "name": "ipython",
    "version": 3
   },
   "file_extension": ".py",
   "mimetype": "text/x-python",
   "name": "python",
   "nbconvert_exporter": "python",
   "pygments_lexer": "ipython3",
   "version": "3.7.3"
  }
 },
 "nbformat": 4,
 "nbformat_minor": 2
}
